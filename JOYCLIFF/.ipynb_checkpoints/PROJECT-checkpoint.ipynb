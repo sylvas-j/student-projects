{
 "cells": [
  {
   "cell_type": "markdown",
   "id": "d88e6bc8",
   "metadata": {},
   "source": [
    "#### PROJECT QUESTION"
   ]
  },
  {
   "cell_type": "markdown",
   "id": "c4dc33a1",
   "metadata": {},
   "source": [
    "#### * CREATE A PROGRAM THAT ALLOWS THE USER TO ENTER A DESTINATION AND DEPARTURE LOCATIONAND CHECK THE WEB FOR DAYS FOR FLIGHT. THE  USER SHOULD BE ABEL TO MAKE A SELECTION"
   ]
  },
  {
   "cell_type": "markdown",
   "id": "ff6df970",
   "metadata": {},
   "source": [
    "####                           TRAVEL AGENCY"
   ]
  },
  {
   "cell_type": "markdown",
   "id": "51c6a253",
   "metadata": {},
   "source": [
    "#### IMPORT MODULES\n"
   ]
  },
  {
   "cell_type": "code",
   "execution_count": 1,
   "id": "78e7c3ec",
   "metadata": {},
   "outputs": [],
   "source": [
    "import requests\n",
    "import json"
   ]
  },
  {
   "cell_type": "markdown",
   "id": "4dc02f23",
   "metadata": {},
   "source": [
    "#### FUNCTIONS"
   ]
  },
  {
   "cell_type": "markdown",
   "id": "3536847f",
   "metadata": {},
   "source": [
    "#### IT GIVES THE DEPARTURE AIRPORT AND INTERNATIONAL AIR TRANSPORT ASSOCIATION(IATA) CODES OF THE AIRPORTS"
   ]
  },
  {
   "cell_type": "code",
   "execution_count": 2,
   "id": "73199120",
   "metadata": {},
   "outputs": [],
   "source": [
    "def dep_set(country,state,city):\n",
    "    url = \"https://forward-reverse-geocoding.p.rapidapi.com/v1/forward\"\n",
    "    querystring = {f\"city\":{city},\"state\":{state},\"country\":{country},\"accept-language\":\"en\",\"polygon_threshold\":\"0.0\"}\n",
    "    headers = {\n",
    "        \"X-RapidAPI-Key\": \"3157bee516msh1f5b06d1cc4a6bfp18c7dfjsn0bb9ecc28b33\",\n",
    "        \"X-RapidAPI-Host\": \"forward-reverse-geocoding.p.rapidapi.com\"\n",
    "    }\n",
    "    response = requests.request(\"GET\", url, headers=headers, params=querystring)\n",
    "    data=json.loads(response.text)\n",
    "    longitude=data[0]['lon']\n",
    "    latitude=data[0]['lat']\n",
    "    url=f\"https://aerodatabox.p.rapidapi.com/airports/search/location/{latitude}/{longitude}/km/100/10\"\n",
    "    querystring={\"withFlightInfoOnly\":\"True\"}\n",
    "    headers={\"X-RapidAPI-Key\":\"3157bee516msh1f5b06d1cc4a6bfp18c7dfjsn0bb9ecc28b33\",\"X-RapidApI-Host\":\"aerodatabox.p.rapidapi.com\"}\n",
    "    response=requests.request(\"GET\",url,headers=headers,params=querystring)\n",
    "    data=json.loads(response.text)\n",
    "    dep_iata=[]\n",
    "    dep_name=[]\n",
    "    for a,i in enumerate (data['items'][0:]):\n",
    "        dep_iata.append(i['iata'])\n",
    "        dep_name.append(i['name'])\n",
    "    return dep_iata,dep_name"
   ]
  },
  {
   "cell_type": "markdown",
   "id": "905bffdf",
   "metadata": {},
   "source": [
    "#### THIS IS FOR THE ARRIVAL"
   ]
  },
  {
   "cell_type": "code",
   "execution_count": 3,
   "id": "5aa9898a",
   "metadata": {},
   "outputs": [],
   "source": [
    "def des_set(country2,state2,city2):\n",
    "    url = \"https://forward-reverse-geocoding.p.rapidapi.com/v1/forward\"\n",
    "\n",
    "    querystring = {f\"city\":{city2},\"state\":{state2},\"country\":{country2},\"accept-language\":\"en\",\"polygon_threshold\":\"0.0\"}\n",
    "\n",
    "    headers = {\n",
    "        \"X-RapidAPI-Key\": \"3157bee516msh1f5b06d1cc4a6bfp18c7dfjsn0bb9ecc28b33\",\n",
    "        \"X-RapidAPI-Host\": \"forward-reverse-geocoding.p.rapidapi.com\"\n",
    "    }\n",
    "\n",
    "    response = requests.request(\"GET\", url, headers=headers, params=querystring)\n",
    "\n",
    "    data=json.loads(response.text)\n",
    "    longitude=data[0]['lon']\n",
    "    latitude=data[0]['lat']\n",
    "    url=f\"https://aerodatabox.p.rapidapi.com/airports/search/location/{latitude}/{longitude}/km/100/10\"\n",
    "    querystring={\"withFlightInfoOnly\":\"True\"}\n",
    "    headers={\"X-RapidAPI-Key\":\"3157bee516msh1f5b06d1cc4a6bfp18c7dfjsn0bb9ecc28b33\",\"X-RapidApI-Host\":\"aerodatabox.p.rapidapi.com\"}\n",
    "    response=requests.request(\"GET\",url,headers=headers,params=querystring)\n",
    "    data=json.loads(response.text)\n",
    "    arr_iata=[]\n",
    "    arr_name=[]\n",
    "    for a,i in enumerate (data['items'][0:]):\n",
    "        arr_iata.append(i['iata'])\n",
    "        arr_name.append(i['name'])\n",
    "    return arr_iata,arr_name"
   ]
  },
  {
   "cell_type": "markdown",
   "id": "679cec33",
   "metadata": {},
   "source": [
    "#### THIS IS FOR THE PRICE OF THE AIRPORT"
   ]
  },
  {
   "cell_type": "code",
   "execution_count": 4,
   "id": "c8b24323",
   "metadata": {},
   "outputs": [],
   "source": [
    "def dep_price(a,b,departuredate):\n",
    "    api_key='63d2403c298adf8e604d51c6'\n",
    "    url=f\"https://api.flightapi.io/onewaytrip/{api_key}/{a}/{b}/{departuredate}/1/0/0/Economy/USD\"\n",
    "    response=requests.get(url)\n",
    "    data=json.loads(response.text)\n",
    "    orr_amount=data['fares'][0]['price']['originalAmount']\n",
    "    tot_amount=data['fares'][0]['price']['totalAmount']\n",
    "    airlinenames=[]\n",
    "    departuretime=[]\n",
    "    arrivaltime=[]\n",
    "    flightduration=[]\n",
    "    for a in data['airlines'][0:]:\n",
    "        airlinenames.append(a['name'])\n",
    "    for i in data['legs'][0:]:\n",
    "        if i.get('stopoversCount')==0:\n",
    "            departuretime.append(i['departureTime'])\n",
    "            arrivaltime.append(i['arrivalTime'])\n",
    "            flightduration.append(i['duration'])\n",
    "       \n",
    "    return orr_amount,tot_amount,airlinenames,departuretime,arrivaltime,flightduration"
   ]
  },
  {
   "cell_type": "markdown",
   "id": "380ecc06",
   "metadata": {},
   "source": [
    "#### THIS CELL ENABELS THE USER TO INPUT THE NECCESSARY INFORMATION NEEDED"
   ]
  },
  {
   "cell_type": "code",
   "execution_count": 5,
   "id": "866e9928",
   "metadata": {
    "scrolled": true
   },
   "outputs": [
    {
     "name": "stdout",
     "output_type": "stream",
     "text": [
      "please enter the departure country: nigeria\n",
      "please enter the departure state: lagos\n",
      "please enter the departure city: lagos\n",
      "please enter the destination country: nigeria\n",
      "please enter the destination state: rivers\n",
      "please enter the destination city: port harcourt\n",
      "please input ur day of departure (in the format YYYY-MM-DD): 2023-01-29\n",
      "\n"
     ]
    },
    {
     "data": {
      "text/plain": [
       "(['PHC', 'QOW'], ['Port Harcourt', 'Owerri, Sam Mbakwe'])"
      ]
     },
     "execution_count": 5,
     "metadata": {},
     "output_type": "execute_result"
    }
   ],
   "source": [
    "country=input('please enter the departure country: ')\n",
    "state=input('please enter the departure state: ')\n",
    "city=input('please enter the departure city: ')\n",
    "country2=input('please enter the destination country: ')\n",
    "state2=input('please enter the destination state: ')\n",
    "city2=input('please enter the destination city: ')\n",
    "departuredate=input('please input ur day of departure (in the format YYYY-MM-DD): ')\n",
    "print('') \n",
    "dep_set(country,state,city)\n",
    "des_set(country2,state2,city2)"
   ]
  },
  {
   "cell_type": "markdown",
   "id": "109ae574",
   "metadata": {},
   "source": [
    "#### PRINTS OUT CLOSEST AIRPORT TO THE DEPARTURE AND DESTINATION"
   ]
  },
  {
   "cell_type": "code",
   "execution_count": 6,
   "id": "0e2549e8",
   "metadata": {},
   "outputs": [
    {
     "name": "stdout",
     "output_type": "stream",
     "text": [
      "possible departure airports\n",
      "1 Lagos, Murtala Muhammed\n",
      "  IATA CODE:  LOS\n",
      "\n",
      "possible arrival airports\n",
      "1 Port Harcourt\n",
      "  IATA CODE:  PHC\n",
      "2 Owerri, Sam Mbakwe\n",
      "  IATA CODE:  QOW\n"
     ]
    }
   ],
   "source": [
    "dep_iata,dep_name=dep_set(country,state,city)\n",
    "print('possible departure airports')\n",
    "for i,(h,g) in enumerate(zip(dep_name,dep_iata)):\n",
    "    print(i+1,h)\n",
    "    print('  IATA CODE: ',g)\n",
    "print(\"\")\n",
    "arr_iata,arr_name=des_set(country2,state2,city2)\n",
    "print('possible arrival airports')\n",
    "for a,(k,l) in enumerate(zip(arr_name,arr_iata)):\n",
    "    print(a+1,k)\n",
    "    print('  IATA CODE: ',l)"
   ]
  },
  {
   "cell_type": "code",
   "execution_count": 7,
   "id": "cfdcab35",
   "metadata": {
    "scrolled": true
   },
   "outputs": [
    {
     "name": "stdout",
     "output_type": "stream",
     "text": [
      "Please select a departure IATA code from the above display: LOS\n",
      "Please select an arrival IATA code from the above display: PHC\n"
     ]
    }
   ],
   "source": [
    "a=input('Please select a departure IATA code from the above display: ')\n",
    "b=input('Please select an arrival IATA code from the above display: ')"
   ]
  },
  {
   "cell_type": "markdown",
   "id": "2f747816",
   "metadata": {},
   "source": [
    "#### PRINTS OUT THE AIRLINE, PRICE, DURATION AND ND TIME"
   ]
  },
  {
   "cell_type": "code",
   "execution_count": 8,
   "id": "4505a601",
   "metadata": {},
   "outputs": [
    {
     "name": "stdout",
     "output_type": "stream",
     "text": [
      "FLIGHT\n",
      "AIRlINES:  Air Peace\n",
      "1 DEPARTURE TIME:  06:45\n",
      "  ARRIVAL TIME:  07:55\n",
      "  FLIGHT DURATION:  01h 10m\n",
      "  ORRIGINAL AMOUNT:  129.25 USD\n",
      "  TOTAL AMOUNT:  129 USD\n"
     ]
    }
   ],
   "source": [
    "if a in dep_iata:\n",
    "    if b in arr_iata:\n",
    "        orr_amount,tot_amount,airlinenames,departuretime,arrivaltime,flightduration=dep_price(a,b,departuredate)\n",
    "        print('FLIGHT')\n",
    "        for f,(m,n,o,p,) in enumerate(zip(airlinenames,departuretime,arrivaltime,flightduration)):\n",
    "                                      print('AIRlINES: ',m)\n",
    "                                      print(f+1,'DEPARTURE TIME: ',n)\n",
    "                                      print('  ARRIVAL TIME: ',o)\n",
    "                                      print('  FLIGHT DURATION: ',p)\n",
    "        print('  ORRIGINAL AMOUNT: ',orr_amount,'USD')\n",
    "        print('  TOTAL AMOUNT: ',tot_amount,'USD')\n",
    "                                         \n",
    "\n",
    "    else:\n",
    "        print(f'{b} not found in list made above')\n",
    "else:\n",
    "    print(f'{a} not found in list made above')"
   ]
  },
  {
   "cell_type": "code",
   "execution_count": null,
   "id": "159d2790",
   "metadata": {},
   "outputs": [],
   "source": [
    "        "
   ]
  },
  {
   "cell_type": "code",
   "execution_count": null,
   "id": "032a3e31",
   "metadata": {},
   "outputs": [],
   "source": []
  }
 ],
 "metadata": {
  "kernelspec": {
   "display_name": "Python 3",
   "language": "python",
   "name": "python3"
  },
  "language_info": {
   "codemirror_mode": {
    "name": "ipython",
    "version": 3
   },
   "file_extension": ".py",
   "mimetype": "text/x-python",
   "name": "python",
   "nbconvert_exporter": "python",
   "pygments_lexer": "ipython3",
   "version": "3.8.11"
  }
 },
 "nbformat": 4,
 "nbformat_minor": 5
}
