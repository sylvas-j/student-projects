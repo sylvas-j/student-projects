{
 "cells": [
  {
   "cell_type": "markdown",
   "id": "6ee0827f",
   "metadata": {},
   "source": [
    "f = open('files/first file.txt','r')\n",
    "'''print (F.read))'''\n",
    "'''print(f.readline())'''\n",
    "for line in f:\n",
    "    print(line)\n",
    "''' if line.startswitch('s'):'''\n",
    "'''print(line)'''\n",
    "f.close()    "
   ]
  },
  {
   "cell_type": "code",
   "execution_count": null,
   "id": "bdd66101",
   "metadata": {},
   "outputs": [],
   "source": []
  },
  {
   "cell_type": "code",
   "execution_count": null,
   "id": "af13a223",
   "metadata": {},
   "outputs": [],
   "source": []
  },
  {
   "cell_type": "code",
   "execution_count": 8,
   "id": "0c84ef34",
   "metadata": {},
   "outputs": [
    {
     "name": "stdout",
     "output_type": "stream",
     "text": [
      "sa\n"
     ]
    }
   ],
   "source": [
    "f = open('files/first file.txt','r')\n",
    "print(f.read(2))\n",
    "f.close()"
   ]
  },
  {
   "cell_type": "code",
   "execution_count": 30,
   "id": "92e58e30",
   "metadata": {},
   "outputs": [
    {
     "name": "stdout",
     "output_type": "stream",
     "text": [
      "kaecy\n",
      "print that is ok\n"
     ]
    }
   ],
   "source": [
    "f = open('files/first file.txt','r')\n",
    "for line in f: \n",
    "    if line. strip() == 'kaecy':\n",
    "        print(line)\n",
    "    for alpha in line:\n",
    "        if alpha == 'k':\n",
    "            print('print that is ok')\n",
    "f.close()        "
   ]
  },
  {
   "cell_type": "code",
   "execution_count": null,
   "id": "23fef495",
   "metadata": {},
   "outputs": [],
   "source": [
    "f = open('files/first file.txt','r')\n",
    " "
   ]
  },
  {
   "cell_type": "code",
   "execution_count": 36,
   "id": "c0811673",
   "metadata": {},
   "outputs": [
    {
     "name": "stdout",
     "output_type": "stream",
     "text": [
      "that's it\n"
     ]
    }
   ],
   "source": [
    "print (\"that's it\") \n",
    "      "
   ]
  },
  {
   "cell_type": "code",
   "execution_count": 1,
   "id": "d5aeab7f",
   "metadata": {},
   "outputs": [
    {
     "name": "stdout",
     "output_type": "stream",
     "text": [
      "Errorkkkkkkkkk\n"
     ]
    }
   ],
   "source": [
    "try:\n",
    "    f =open('files/second file.txt','r')\n",
    "    print(f.read())\n",
    "    f.close()\n",
    "except:\n",
    "    print('Errorkkkkkkkkk')\n",
    "    f = open('files/second file.txt','w')\n",
    "    f.write('e don b')\n",
    "    f.close()"
   ]
  },
  {
   "cell_type": "code",
   "execution_count": 7,
   "id": "e70c583b",
   "metadata": {},
   "outputs": [
    {
     "ename": "SyntaxError",
     "evalue": "invalid syntax (<ipython-input-7-0633397cb5fb>, line 3)",
     "output_type": "error",
     "traceback": [
      "\u001b[1;36m  File \u001b[1;32m\"<ipython-input-7-0633397cb5fb>\"\u001b[1;36m, line \u001b[1;32m3\u001b[0m\n\u001b[1;33m    if line.strip() == 'i am a boy'\u001b[0m\n\u001b[1;37m                                   ^\u001b[0m\n\u001b[1;31mSyntaxError\u001b[0m\u001b[1;31m:\u001b[0m invalid syntax\n"
     ]
    }
   ],
   "source": [
    "f =open('files/second file.txt','r')\n",
    "for line in f:\n",
    "    if line.strip() == 'i am a boy'\n",
    "        print('ok')\n",
    "f.close()"
   ]
  },
  {
   "cell_type": "markdown",
   "id": "e43622b6",
   "metadata": {},
   "source": [
    "### list"
   ]
  },
  {
   "cell_type": "code",
   "execution_count": 1,
   "id": "88fe33e1",
   "metadata": {},
   "outputs": [
    {
     "name": "stdout",
     "output_type": "stream",
     "text": [
      "8\n"
     ]
    }
   ],
   "source": [
    "a = 8 \n",
    "print(a)\n"
   ]
  },
  {
   "cell_type": "markdown",
   "id": "388d8104",
   "metadata": {},
   "source": [
    "### Average score of the short lists"
   ]
  },
  {
   "cell_type": "code",
   "execution_count": 2,
   "id": "1580df85",
   "metadata": {},
   "outputs": [
    {
     "name": "stdout",
     "output_type": "stream",
     "text": [
      "14.0\n"
     ]
    }
   ],
   "source": [
    "sum = 10 + 11 + 23 + 12\n",
    "avg = sum/4 \n",
    "\n",
    "print(avg)"
   ]
  },
  {
   "cell_type": "markdown",
   "id": "e13741e3",
   "metadata": {},
   "source": [
    "### list"
   ]
  },
  {
   "cell_type": "code",
   "execution_count": 3,
   "id": "bc231c7b",
   "metadata": {},
   "outputs": [
    {
     "name": "stdout",
     "output_type": "stream",
     "text": [
      "['volvo', 'sabhura', 'skyline', 'ford']\n"
     ]
    }
   ],
   "source": [
    "# creat a list\n",
    "# cars = list (('volvo', 'subharu', 'skyline', 'ford'))\n",
    "cars = ['volvo', 'sabhura', 'skyline', 'ford']\n",
    "print(cars) # ['volvo', 'sabharu', 'skyline', 'ford']"
   ]
  },
  {
   "cell_type": "markdown",
   "id": "2ab1d8dd",
   "metadata": {},
   "source": [
    "### list are ordered, changeable and allow duplcate \n",
    "\n",
    "### list items - data types"
   ]
  },
  {
   "cell_type": "code",
   "execution_count": 5,
   "id": "e18a5be7",
   "metadata": {},
   "outputs": [
    {
     "ename": "NameError",
     "evalue": "name 'true' is not defined",
     "output_type": "error",
     "traceback": [
      "\u001b[1;31m---------------------------------------------------------------------------\u001b[0m",
      "\u001b[1;31mNameError\u001b[0m                                 Traceback (most recent call last)",
      "\u001b[1;32m<ipython-input-5-79d97a4d7273>\u001b[0m in \u001b[0;36m<module>\u001b[1;34m\u001b[0m\n\u001b[0;32m      3\u001b[0m \u001b[0mlist1\u001b[0m \u001b[1;33m=\u001b[0m \u001b[1;33m[\u001b[0m\u001b[1;34m'apple'\u001b[0m\u001b[1;33m,\u001b[0m \u001b[1;34m'banana'\u001b[0m\u001b[1;33m,\u001b[0m \u001b[1;34m'cherry'\u001b[0m\u001b[1;33m]\u001b[0m\u001b[1;33m\u001b[0m\u001b[1;33m\u001b[0m\u001b[0m\n\u001b[0;32m      4\u001b[0m \u001b[0mlist2\u001b[0m \u001b[1;33m=\u001b[0m \u001b[1;33m[\u001b[0m\u001b[1;36m1\u001b[0m\u001b[1;33m,\u001b[0m \u001b[1;36m5\u001b[0m\u001b[1;33m,\u001b[0m \u001b[1;36m7\u001b[0m\u001b[1;33m,\u001b[0m \u001b[1;36m9\u001b[0m\u001b[1;33m,\u001b[0m \u001b[1;36m3\u001b[0m\u001b[1;33m]\u001b[0m\u001b[1;33m\u001b[0m\u001b[1;33m\u001b[0m\u001b[0m\n\u001b[1;32m----> 5\u001b[1;33m \u001b[0mlist3\u001b[0m \u001b[1;33m=\u001b[0m \u001b[1;33m[\u001b[0m\u001b[0mtrue\u001b[0m\u001b[1;33m,\u001b[0m \u001b[0mfalse\u001b[0m\u001b[1;33m,\u001b[0m \u001b[0mfalse\u001b[0m\u001b[1;33m]\u001b[0m\u001b[1;33m\u001b[0m\u001b[1;33m\u001b[0m\u001b[0m\n\u001b[0m\u001b[0;32m      6\u001b[0m \u001b[1;33m\u001b[0m\u001b[0m\n\u001b[0;32m      7\u001b[0m \u001b[0mprint\u001b[0m\u001b[1;33m(\u001b[0m\u001b[0mlist1\u001b[0m\u001b[1;33m)\u001b[0m\u001b[1;31m# ['apple', 'banana', 'cherry']\u001b[0m\u001b[1;33m\u001b[0m\u001b[1;33m\u001b[0m\u001b[0m\n",
      "\u001b[1;31mNameError\u001b[0m: name 'true' is not defined"
     ]
    }
   ],
   "source": [
    "# creat a list\n",
    "# list1 = (('apple', 'banana', 'cherry'))\n",
    "list1 = ['apple', 'banana', 'cherry']\n",
    "list2 = [1, 5, 7, 9, 3]\n",
    "list3 = [true, false, false]\n",
    "\n",
    "print(list1)# ['apple', 'banana', 'cherry']"
   ]
  },
  {
   "cell_type": "markdown",
   "id": "96739501",
   "metadata": {},
   "source": [
    "### Access, Change, Add and Remove list items "
   ]
  },
  {
   "cell_type": "code",
   "execution_count": 5,
   "id": "491c6faa",
   "metadata": {},
   "outputs": [
    {
     "name": "stdout",
     "output_type": "stream",
     "text": [
      "volvo\n",
      "['volvo']\n"
     ]
    }
   ],
   "source": [
    "# Access \n",
    "print(cars[0]) # volvo\n",
    "# slicing list \n",
    "print(cars[0:1])"
   ]
  },
  {
   "cell_type": "code",
   "execution_count": 7,
   "id": "05e932a0",
   "metadata": {},
   "outputs": [
    {
     "name": "stdout",
     "output_type": "stream",
     "text": [
      "['volvo', 'sabhura', 'skyline', 'ford']\n",
      "['volvo', 'suzuki', 'skyline', 'ford']\n"
     ]
    }
   ],
   "source": [
    "# change items \n",
    "cars = ['volvo', 'sabhura', 'skyline', 'ford']\n",
    "print(cars)\n",
    "cars[1]= 'suzuki'\n",
    "print(cars)"
   ]
  },
  {
   "cell_type": "code",
   "execution_count": 8,
   "id": "f31ae53f",
   "metadata": {},
   "outputs": [
    {
     "name": "stdout",
     "output_type": "stream",
     "text": [
      "['sky', 'volvo', 'suzuki', 'skyline', 'ford', 'Audi']\n"
     ]
    }
   ],
   "source": [
    "# add item \n",
    "cars.append('Audi')\n",
    "cars.insert(0, 'sky')\n",
    "print(cars)"
   ]
  },
  {
   "cell_type": "code",
   "execution_count": 19,
   "id": "0936fc7c",
   "metadata": {},
   "outputs": [
    {
     "ename": "IndexError",
     "evalue": "list assignment index out of range",
     "output_type": "error",
     "traceback": [
      "\u001b[1;31m---------------------------------------------------------------------------\u001b[0m",
      "\u001b[1;31mIndexError\u001b[0m                                Traceback (most recent call last)",
      "\u001b[1;32m<ipython-input-19-ed13645367d4>\u001b[0m in \u001b[0;36m<module>\u001b[1;34m\u001b[0m\n\u001b[0;32m      1\u001b[0m \u001b[1;31m# Remove items\u001b[0m\u001b[1;33m\u001b[0m\u001b[1;33m\u001b[0m\u001b[1;33m\u001b[0m\u001b[0m\n\u001b[1;32m----> 2\u001b[1;33m \u001b[1;32mdel\u001b[0m \u001b[0mcars\u001b[0m\u001b[1;33m[\u001b[0m\u001b[1;36m0\u001b[0m\u001b[1;33m]\u001b[0m\u001b[1;33m\u001b[0m\u001b[1;33m\u001b[0m\u001b[0m\n\u001b[0m\u001b[0;32m      3\u001b[0m \u001b[0mcars\u001b[0m\u001b[1;33m.\u001b[0m\u001b[0mremove\u001b[0m\u001b[1;33m(\u001b[0m\u001b[1;34m'subara'\u001b[0m\u001b[1;33m)\u001b[0m \u001b[1;31m# remove from the list\u001b[0m\u001b[1;33m\u001b[0m\u001b[1;33m\u001b[0m\u001b[0m\n",
      "\u001b[1;31mIndexError\u001b[0m: list assignment index out of range"
     ]
    }
   ],
   "source": [
    "# Remove items \n",
    "del cars[0]\n",
    "cars.remove('subara') # remove from the list \n"
   ]
  },
  {
   "cell_type": "markdown",
   "id": "4321094f",
   "metadata": {},
   "source": [
    "### Looping through list "
   ]
  },
  {
   "cell_type": "code",
   "execution_count": 28,
   "id": "d604058e",
   "metadata": {},
   "outputs": [],
   "source": [
    "# for car in cars:\n",
    "#     print(car)\n",
    "\n",
    "for i in range (len(cars)):\n",
    "    print(i)\n",
    "    print(cars[i])"
   ]
  },
  {
   "cell_type": "markdown",
   "id": "16986c04",
   "metadata": {},
   "source": [
    "### Dictionaries"
   ]
  },
  {
   "cell_type": "markdown",
   "id": "613c5a33",
   "metadata": {},
   "source": [
    "### List methods"
   ]
  },
  {
   "cell_type": "markdown",
   "id": "3ab30222",
   "metadata": {},
   "source": [
    "### len(s)"
   ]
  },
  {
   "cell_type": "code",
   "execution_count": 2,
   "id": "e657917f",
   "metadata": {},
   "outputs": [
    {
     "ename": "NameError",
     "evalue": "name '_name_' is not defined",
     "output_type": "error",
     "traceback": [
      "\u001b[1;31m---------------------------------------------------------------------------\u001b[0m",
      "\u001b[1;31mNameError\u001b[0m                                 Traceback (most recent call last)",
      "\u001b[1;32m<ipython-input-2-18b9fedf2551>\u001b[0m in \u001b[0;36m<module>\u001b[1;34m\u001b[0m\n\u001b[0;32m      2\u001b[0m     \u001b[1;31m# python list function len() computes the size of the list\u001b[0m\u001b[1;33m\u001b[0m\u001b[1;33m\u001b[0m\u001b[1;33m\u001b[0m\u001b[0m\n\u001b[0;32m      3\u001b[0m     \u001b[1;32mreturn\u001b[0m \u001b[0mlen\u001b[0m\u001b[1;33m(\u001b[0m\u001b[0ml\u001b[0m\u001b[1;33m)\u001b[0m\u001b[1;33m\u001b[0m\u001b[1;33m\u001b[0m\u001b[0m\n\u001b[1;32m----> 4\u001b[1;33m \u001b[1;32mif\u001b[0m \u001b[0m_name_\u001b[0m \u001b[1;33m==\u001b[0m \u001b[1;34m'kaecy'\u001b[0m\u001b[1;33m:\u001b[0m\u001b[1;33m\u001b[0m\u001b[1;33m\u001b[0m\u001b[0m\n\u001b[0m\u001b[0;32m      5\u001b[0m     \u001b[0ml1\u001b[0m \u001b[1;33m=\u001b[0m \u001b[1;33m[\u001b[0m\u001b[1;33m]\u001b[0m                   \u001b[1;31m# defined an empty list\u001b[0m\u001b[1;33m\u001b[0m\u001b[1;33m\u001b[0m\u001b[0m\n\u001b[0;32m      6\u001b[0m     \u001b[0ml2\u001b[0m \u001b[1;33m=\u001b[0m \u001b[1;33m[\u001b[0m\u001b[1;36m5\u001b[0m\u001b[1;33m,\u001b[0m\u001b[1;36m43\u001b[0m\u001b[1;33m,\u001b[0m\u001b[1;36m6\u001b[0m\u001b[1;33m,\u001b[0m\u001b[1;36m1\u001b[0m\u001b[1;33m]\u001b[0m           \u001b[1;31m# define a list of 4 elements\u001b[0m\u001b[1;33m\u001b[0m\u001b[1;33m\u001b[0m\u001b[0m\n",
      "\u001b[1;31mNameError\u001b[0m: name '_name_' is not defined"
     ]
    }
   ],
   "source": [
    "def get_len(l):\n",
    "    # python list function len() computes the size of the list\n",
    "    return len(l)\n",
    "if _name_ == 'kaecy': \n",
    "    l1 = []                   # defined an empty list\n",
    "    l2 = [5,43,6,1]           # define a list of 4 elements\n",
    "    l3 = [[4,3,],[0,1],[3]]   # define a list of 3 elements \n",
    "    \n",
    "    print(\"L1 len: \", get_len(l1))\n",
    "    print(\"L2 len: \", get_len(l2))\n",
    "    print(\"L3 len: \", get_len(l3))"
   ]
  },
  {
   "cell_type": "markdown",
   "id": "1ad629dc",
   "metadata": {},
   "source": [
    "### sort"
   ]
  },
  {
   "cell_type": "code",
   "execution_count": 7,
   "id": "4447de32",
   "metadata": {},
   "outputs": [
    {
     "name": "stdout",
     "output_type": "stream",
     "text": [
      "[237.81, 238.11, 238.91]\n"
     ]
    }
   ],
   "source": [
    "prices = [238.11, 237.81, 238.91]\n",
    "prices.sort()\n",
    "print(prices)"
   ]
  },
  {
   "cell_type": "markdown",
   "id": "5cff1f37",
   "metadata": {},
   "source": [
    "### Append"
   ]
  },
  {
   "cell_type": "markdown",
   "id": "881215c8",
   "metadata": {},
   "source": []
  },
  {
   "cell_type": "code",
   "execution_count": 8,
   "id": "8ca6cad1",
   "metadata": {},
   "outputs": [
    {
     "name": "stdout",
     "output_type": "stream",
     "text": [
      "['Jenuary', 'February', 'March', 'April']\n"
     ]
    }
   ],
   "source": [
    "months = ['Jenuary', 'February', 'March']\n",
    "months.append('April')\n",
    "print(months)"
   ]
  },
  {
   "cell_type": "markdown",
   "id": "d750d614",
   "metadata": {},
   "source": [
    "### Extend "
   ]
  },
  {
   "cell_type": "code",
   "execution_count": 9,
   "id": "6234b33e",
   "metadata": {},
   "outputs": [
    {
     "data": {
      "text/plain": [
       "[1, 2, 3, 4, 5]"
      ]
     },
     "execution_count": 9,
     "metadata": {},
     "output_type": "execute_result"
    }
   ],
   "source": [
    "x = [1, 2, 3]\n",
    "x.extend([4, 5])\n",
    "x"
   ]
  },
  {
   "cell_type": "markdown",
   "id": "e224071a",
   "metadata": {},
   "source": [
    "### Index"
   ]
  },
  {
   "cell_type": "code",
   "execution_count": 1,
   "id": "e6d292a0",
   "metadata": {},
   "outputs": [
    {
     "data": {
      "text/plain": [
       "1"
      ]
     },
     "execution_count": 1,
     "metadata": {},
     "output_type": "execute_result"
    }
   ],
   "source": [
    "months = ['Jenuary', 'february', 'march']\n",
    "prices = [234.11, 253.22, 264.65]\n",
    "months.index ('february')"
   ]
  },
  {
   "cell_type": "markdown",
   "id": "6ea575d5",
   "metadata": {},
   "source": [
    "### Clear"
   ]
  },
  {
   "cell_type": "code",
   "execution_count": 13,
   "id": "c161175a",
   "metadata": {},
   "outputs": [
    {
     "name": "stdout",
     "output_type": "stream",
     "text": [
      "before calling clear():  ['Mumbai', 'London', 'Paris', 'New York']\n",
      "after calling clear():  []\n"
     ]
    }
   ],
   "source": [
    "cities = ['Mumbai', 'London', 'Paris', 'New York']\n",
    "print(\"before calling clear(): \", cities)\n",
    "cities.clear()\n",
    "print(\"after calling clear(): \", cities)"
   ]
  },
  {
   "cell_type": "markdown",
   "id": "17d633c6",
   "metadata": {},
   "source": [
    "### Copy"
   ]
  },
  {
   "cell_type": "code",
   "execution_count": 2,
   "id": "193cee05",
   "metadata": {},
   "outputs": [
    {
     "name": "stdout",
     "output_type": "stream",
     "text": [
      "original list:  ['Mumbai', 'London', 'Paris', 'New York']\n",
      "copied list:  ['Mumbai', 'London', 'Paris', 'New York']\n"
     ]
    }
   ],
   "source": [
    "cities = ['Mumbai', 'London', 'Paris', 'New York']\n",
    "favCities = cities.copy()\n",
    "print(\"original list: \", cities)\n",
    "print(\"copied list: \", favCities) "
   ]
  },
  {
   "cell_type": "markdown",
   "id": "f1ec8ce7",
   "metadata": {},
   "source": [
    "### Counts"
   ]
  },
  {
   "cell_type": "code",
   "execution_count": 2,
   "id": "ab6903fe",
   "metadata": {},
   "outputs": [
    {
     "name": "stdout",
     "output_type": "stream",
     "text": [
      "the number of time Mumbai occurs is:  2\n"
     ]
    }
   ],
   "source": [
    "city = 'Mumbai'\n",
    "cities = ['Mumbai', 'London', 'Paris', 'New York', 'Mumbai']\n",
    "num = cities.count(city)\n",
    "print(\"the number of time Mumbai occurs is: \", num)\n"
   ]
  },
  {
   "cell_type": "markdown",
   "id": "3d906ab9",
   "metadata": {},
   "source": [
    "### Insert"
   ]
  },
  {
   "cell_type": "code",
   "execution_count": 4,
   "id": "40bcd388",
   "metadata": {},
   "outputs": [
    {
     "name": "stdout",
     "output_type": "stream",
     "text": [
      "['New Delhi', 'Mumbai', 'London', 'Paris', 'New York']\n",
      "['New Delhi', 'Mumbai', 'Chicago', 'London', 'Paris', 'New York']\n"
     ]
    }
   ],
   "source": [
    "cities = ['Mumbai', 'London', 'Paris', 'New York']\n",
    "cities.insert(0, 'New Delhi') # insert at 0 index (first)\n",
    "print(cities)\n",
    "\n",
    "cities.insert(2, 'Chicago') # insert at 2nd index \n",
    "print(cities)"
   ]
  },
  {
   "cell_type": "code",
   "execution_count": 7,
   "id": "9854bbb0",
   "metadata": {},
   "outputs": [],
   "source": [
    "# Inserting sets and tuples\n",
    "mycities = {'DELHI', 'Chennai'}\n",
    "favcities = ('Hyderabad', 'bangalore')\n",
    "worldcities = ['Mumbai', 'London', 'New York']\n",
    "worldcities.insert(1, mycities)\n",
    "worldcities.insert(3, favcities)"
   ]
  },
  {
   "cell_type": "markdown",
   "id": "f7de50eb",
   "metadata": {},
   "source": [
    "### Reverse"
   ]
  },
  {
   "cell_type": "code",
   "execution_count": 11,
   "id": "a85ea0ad",
   "metadata": {},
   "outputs": [
    {
     "name": "stdout",
     "output_type": "stream",
     "text": [
      "ORIGINAL LIST:  ['Mumbai', 'London', 'Paris', 'New York']\n",
      "REVERSED LIST:  ['New York', 'Paris', 'London', 'Mumbai']\n"
     ]
    }
   ],
   "source": [
    "cities = ['Mumbai', 'London', 'Paris', 'New York']\n",
    "print(\"ORIGINAL LIST: \", cities)\n",
    "cities.reverse()\n",
    "print(\"REVERSED LIST: \", cities)"
   ]
  },
  {
   "cell_type": "markdown",
   "id": "49014431",
   "metadata": {},
   "source": []
  },
  {
   "cell_type": "code",
   "execution_count": 15,
   "id": "0951908d",
   "metadata": {},
   "outputs": [
    {
     "name": "stdout",
     "output_type": "stream",
     "text": [
      "ORIGINAL LIST:  [1, 2, 3, 4, 5, 6]\n",
      "REVERSED LIST:  [6, 5, 4, 3, 2, 1]\n"
     ]
    }
   ],
   "source": [
    "nums = [1, 2, 3, 4, 5, 6]\n",
    "print(\"ORIGINAL LIST: \", nums)\n",
    "\n",
    "nums.reverse()\n",
    "print(\"REVERSED LIST: \", nums)"
   ]
  },
  {
   "cell_type": "markdown",
   "id": "8f470d93",
   "metadata": {},
   "source": [
    "### DICTIONARIES"
   ]
  },
  {
   "cell_type": "code",
   "execution_count": null,
   "id": "ec453ea4",
   "metadata": {},
   "outputs": [],
   "source": [
    "1. Dictionaries are used to store data values in key value pairs \n",
    "2. A dictionry is a collection which is ordered, changeable and do not allow duplicate "
   ]
  },
  {
   "cell_type": "code",
   "execution_count": 12,
   "id": "698a91df",
   "metadata": {},
   "outputs": [
    {
     "ename": "SyntaxError",
     "evalue": "invalid syntax (<ipython-input-12-34f09b728136>, line 2)",
     "output_type": "error",
     "traceback": [
      "\u001b[1;36m  File \u001b[1;32m\"<ipython-input-12-34f09b728136>\"\u001b[1;36m, line \u001b[1;32m2\u001b[0m\n\u001b[1;33m    stock 1={\u001b[0m\n\u001b[1;37m          ^\u001b[0m\n\u001b[1;31mSyntaxError\u001b[0m\u001b[1;31m:\u001b[0m invalid syntax\n"
     ]
    }
   ],
   "source": [
    "# Create dictionary\n",
    "stock 1={ \n",
    "    'type': 'volvo',\n",
    "    'color': 'Black'\n",
    "}\n",
    "    "
   ]
  },
  {
   "cell_type": "markdown",
   "id": "a385f372",
   "metadata": {},
   "source": [
    "### Access, Change, Add and Remove dictionary items "
   ]
  },
  {
   "cell_type": "code",
   "execution_count": null,
   "id": "9216de3d",
   "metadata": {},
   "outputs": [],
   "source": []
  },
  {
   "cell_type": "code",
   "execution_count": 4,
   "id": "754ac93f",
   "metadata": {},
   "outputs": [
    {
     "ename": "NameError",
     "evalue": "name 'stock_1' is not defined",
     "output_type": "error",
     "traceback": [
      "\u001b[1;31m---------------------------------------------------------------------------\u001b[0m",
      "\u001b[1;31mNameError\u001b[0m                                 Traceback (most recent call last)",
      "\u001b[1;32m<ipython-input-4-942757ad2fde>\u001b[0m in \u001b[0;36m<module>\u001b[1;34m\u001b[0m\n\u001b[0;32m      1\u001b[0m \u001b[1;31m# change\u001b[0m\u001b[1;33m\u001b[0m\u001b[1;33m\u001b[0m\u001b[1;33m\u001b[0m\u001b[0m\n\u001b[1;32m----> 2\u001b[1;33m \u001b[0mstock_1\u001b[0m\u001b[1;33m[\u001b[0m\u001b[1;34m'color'\u001b[0m\u001b[1;33m]\u001b[0m\u001b[1;33m=\u001b[0m\u001b[1;34m'red'\u001b[0m\u001b[1;33m\u001b[0m\u001b[1;33m\u001b[0m\u001b[0m\n\u001b[0m\u001b[0;32m      3\u001b[0m \u001b[0mprint\u001b[0m\u001b[1;33m(\u001b[0m\u001b[0mstock_1\u001b[0m\u001b[1;33m)\u001b[0m\u001b[1;33m\u001b[0m\u001b[1;33m\u001b[0m\u001b[0m\n",
      "\u001b[1;31mNameError\u001b[0m: name 'stock_1' is not defined"
     ]
    }
   ],
   "source": [
    "# change \n",
    "stock_1['color']='red'\n",
    "print(stock_1)   "
   ]
  },
  {
   "cell_type": "code",
   "execution_count": null,
   "id": "f7e8f845",
   "metadata": {},
   "outputs": [],
   "source": [
    "# Add\n",
    "stock_1['year']=2022\n"
   ]
  },
  {
   "cell_type": "code",
   "execution_count": null,
   "id": "c8223171",
   "metadata": {},
   "outputs": [],
   "source": []
  },
  {
   "cell_type": "markdown",
   "id": "32dab632",
   "metadata": {},
   "source": [
    "### Looping through dictionary"
   ]
  },
  {
   "cell_type": "code",
   "execution_count": 6,
   "id": "78dd57e7",
   "metadata": {},
   "outputs": [
    {
     "ename": "NameError",
     "evalue": "name 'stock_1' is not defined",
     "output_type": "error",
     "traceback": [
      "\u001b[1;31m---------------------------------------------------------------------------\u001b[0m",
      "\u001b[1;31mNameError\u001b[0m                                 Traceback (most recent call last)",
      "\u001b[1;32m<ipython-input-6-7bbbf33ea091>\u001b[0m in \u001b[0;36m<module>\u001b[1;34m\u001b[0m\n\u001b[1;32m----> 1\u001b[1;33m \u001b[1;32mfor\u001b[0m \u001b[0mkey\u001b[0m\u001b[1;33m,\u001b[0m \u001b[0mvalue\u001b[0m \u001b[1;32min\u001b[0m \u001b[0mstock_1\u001b[0m\u001b[1;33m.\u001b[0m\u001b[0mitem\u001b[0m\u001b[1;33m(\u001b[0m\u001b[1;33m)\u001b[0m\u001b[1;33m:\u001b[0m   \u001b[1;31m# method 'item()' returns a list of key value\u001b[0m\u001b[1;33m\u001b[0m\u001b[1;33m\u001b[0m\u001b[0m\n\u001b[0m\u001b[0;32m      2\u001b[0m     \u001b[0mprint\u001b[0m\u001b[1;33m(\u001b[0m\u001b[0mkey\u001b[0m\u001b[1;33m,\u001b[0m \u001b[1;34m\":\"\u001b[0m\u001b[1;33m,\u001b[0m \u001b[0mvalue\u001b[0m\u001b[1;33m)\u001b[0m\u001b[1;33m\u001b[0m\u001b[1;33m\u001b[0m\u001b[0m\n",
      "\u001b[1;31mNameError\u001b[0m: name 'stock_1' is not defined"
     ]
    }
   ],
   "source": [
    "for key, value in stock_1.item():   # method 'item()' returns a list of key value\n",
    "    print(key, \":\", value)"
   ]
  },
  {
   "cell_type": "code",
   "execution_count": null,
   "id": "dd704e32",
   "metadata": {},
   "outputs": [],
   "source": []
  },
  {
   "cell_type": "code",
   "execution_count": null,
   "id": "097316e4",
   "metadata": {},
   "outputs": [],
   "source": []
  },
  {
   "cell_type": "markdown",
   "id": "a5654084",
   "metadata": {},
   "source": [
    "### Nested Dictionary"
   ]
  },
  {
   "cell_type": "code",
   "execution_count": 21,
   "id": "07758000",
   "metadata": {},
   "outputs": [],
   "source": [
    "class_1 ={'student A': {\n",
    "              'name' :'Chukudi',\n",
    "              'age': 23 \n",
    "          },\n",
    "          'student B':{\n",
    "              'name':'Gabriel',\n",
    "              'age' : 75\n",
    "          }, \n",
    "          'student C': { \n",
    "              'digit': [23,45,23,23,32,{'name':'fatibumbum'}],\n",
    "              'age': 75\n",
    "          }\n",
    "         }"
   ]
  },
  {
   "cell_type": "code",
   "execution_count": 23,
   "id": "44c004c2",
   "metadata": {},
   "outputs": [
    {
     "name": "stdout",
     "output_type": "stream",
     "text": [
      "Chukudi\n"
     ]
    }
   ],
   "source": [
    "print(class_1['student A']['name'])"
   ]
  },
  {
   "cell_type": "code",
   "execution_count": 4,
   "id": "dcdf4a84",
   "metadata": {},
   "outputs": [
    {
     "ename": "NameError",
     "evalue": "name 'class_1' is not defined",
     "output_type": "error",
     "traceback": [
      "\u001b[1;31m---------------------------------------------------------------------------\u001b[0m",
      "\u001b[1;31mNameError\u001b[0m                                 Traceback (most recent call last)",
      "\u001b[1;32m<ipython-input-4-42dd5692ccdc>\u001b[0m in \u001b[0;36m<module>\u001b[1;34m\u001b[0m\n\u001b[1;32m----> 1\u001b[1;33m \u001b[0mprint\u001b[0m\u001b[1;33m(\u001b[0m\u001b[0mclass_1\u001b[0m\u001b[1;33m[\u001b[0m\u001b[1;34m'student C'\u001b[0m\u001b[1;33m]\u001b[0m\u001b[1;33m[\u001b[0m\u001b[1;34m'digit'\u001b[0m\u001b[1;33m]\u001b[0m\u001b[1;33m[\u001b[0m\u001b[1;34m'name'\u001b[0m\u001b[1;33m]\u001b[0m\u001b[1;33m)\u001b[0m\u001b[1;33m\u001b[0m\u001b[1;33m\u001b[0m\u001b[0m\n\u001b[0m",
      "\u001b[1;31mNameError\u001b[0m: name 'class_1' is not defined"
     ]
    }
   ],
   "source": [
    "print(class_1['student C']['digit']['name'])"
   ]
  },
  {
   "cell_type": "markdown",
   "id": "8ca04cd0",
   "metadata": {},
   "source": [
    "### 1. Create a function that accept only dictionary as subject\n",
    "### 2. NB: Your dict should also have list as a value\n",
    "### 3. Update the first content of the dict and the last print of the list\n",
    "### 4. Return your final result (the new modified dict)"
   ]
  },
  {
   "cell_type": "code",
   "execution_count": 12,
   "id": "038fa2be",
   "metadata": {},
   "outputs": [],
   "source": [
    "stacks_1={\n",
    "    'car':'ford',\n",
    "    'brand': 'lincoln',\n",
    "    'model': [20022,2023,2024,2025,2026,2027,2028,2029,2030],\n",
    "    'building':'factory',\n",
    "}"
   ]
  },
  {
   "cell_type": "code",
   "execution_count": 14,
   "id": "24ca7905",
   "metadata": {},
   "outputs": [],
   "source": [
    "stacks_1['car']='bentley'\n",
    "stacks_1['model'].append('2040')\n"
   ]
  },
  {
   "cell_type": "code",
   "execution_count": 15,
   "id": "441c70cf",
   "metadata": {},
   "outputs": [
    {
     "data": {
      "text/plain": [
       "{'car': 'bentley',\n",
       " 'brand': 'lincoln',\n",
       " 'model': [20022, 2023, 2024, 2025, 2026, 2027, 2028, 2029, 2030, '2040'],\n",
       " 'building': 'factory'}"
      ]
     },
     "execution_count": 15,
     "metadata": {},
     "output_type": "execute_result"
    }
   ],
   "source": [
    "stacks_1"
   ]
  },
  {
   "cell_type": "markdown",
   "id": "b04bb823",
   "metadata": {},
   "source": [
    "### Tuples"
   ]
  },
  {
   "cell_type": "code",
   "execution_count": 4,
   "id": "5e1ab557",
   "metadata": {},
   "outputs": [],
   "source": [
    "List1 = ('apple', 'banana', 'cherry')\n",
    "list2 = (1, 3, 4, 6, 7)"
   ]
  },
  {
   "cell_type": "code",
   "execution_count": 5,
   "id": "32422629",
   "metadata": {},
   "outputs": [
    {
     "data": {
      "text/plain": [
       "7"
      ]
     },
     "execution_count": 5,
     "metadata": {},
     "output_type": "execute_result"
    }
   ],
   "source": [
    "max(list2)"
   ]
  },
  {
   "cell_type": "code",
   "execution_count": 6,
   "id": "bb8a73d8",
   "metadata": {},
   "outputs": [
    {
     "data": {
      "text/plain": [
       "1"
      ]
     },
     "execution_count": 6,
     "metadata": {},
     "output_type": "execute_result"
    }
   ],
   "source": [
    "min(list2)"
   ]
  },
  {
   "cell_type": "code",
   "execution_count": 7,
   "id": "54b6b6d0",
   "metadata": {},
   "outputs": [
    {
     "data": {
      "text/plain": [
       "(4, 6)"
      ]
     },
     "execution_count": 7,
     "metadata": {},
     "output_type": "execute_result"
    }
   ],
   "source": [
    "list2[2:4]"
   ]
  },
  {
   "cell_type": "markdown",
   "id": "22d5f229",
   "metadata": {},
   "source": [
    "### SOCKET"
   ]
  },
  {
   "cell_type": "code",
   "execution_count": null,
   "id": "0dbef923",
   "metadata": {},
   "outputs": [],
   "source": [
    "1 import socket \n",
    "2 n=mysock.connect(('www.py4inf.com',80))\n",
    "3"
   ]
  },
  {
   "cell_type": "markdown",
   "id": "3cad32e7",
   "metadata": {},
   "source": []
  },
  {
   "cell_type": "code",
   "execution_count": null,
   "id": "ab345491",
   "metadata": {},
   "outputs": [],
   "source": [
    "1 server = socket.socket(socket.AF_INET, socket.SOCK_STREAM)\n",
    "2 req = \"GET / HTTP/1.0\" "
   ]
  },
  {
   "cell_type": "code",
   "execution_count": 12,
   "id": "74f23909",
   "metadata": {},
   "outputs": [],
   "source": [
    "from bs4 import BeautifulSoup as bs\n",
    "import urllib"
   ]
  },
  {
   "cell_type": "code",
   "execution_count": null,
   "id": "5aa4837d",
   "metadata": {},
   "outputs": [],
   "source": [
    "webpage = 'https://' + input(str('enter the webpage'))\n",
    "tag = input(str('enter the tag: '))\n",
    "url = webpage\n",
    "page = urllib.request.urlopen(url)\n",
    "soup = bs(page, 'html.parser')\n",
    "search = soup.find_all(tag)\n",
    "for item in search:\n",
    "    print (item.get_text())"
   ]
  },
  {
   "cell_type": "code",
   "execution_count": null,
   "id": "c3c506ce",
   "metadata": {},
   "outputs": [],
   "source": []
  },
  {
   "cell_type": "code",
   "execution_count": 35,
   "id": "f478e90e",
   "metadata": {},
   "outputs": [
    {
     "ename": "SyntaxError",
     "evalue": "invalid syntax (<ipython-input-35-7f34bc3789b0>, line 13)",
     "output_type": "error",
     "traceback": [
      "\u001b[1;36m  File \u001b[1;32m\"<ipython-input-35-7f34bc3789b0>\"\u001b[1;36m, line \u001b[1;32m13\u001b[0m\n\u001b[1;33m    except filenotfounderror:\u001b[0m\n\u001b[1;37m    ^\u001b[0m\n\u001b[1;31mSyntaxError\u001b[0m\u001b[1;31m:\u001b[0m invalid syntax\n"
     ]
    }
   ],
   "source": [
    "  \n",
    "def create_note():\n",
    "    title = input(\"Enter the title of the note: \")\n",
    "    content = input(\"Enter the content of the note: \")\n",
    "    with open(f\"{title}.txt\", \"w\") as f:\n",
    "        f.write(content)\n",
    "    print(f\"Note:'{title}'has been created!\")\n",
    "    \n",
    "def view_Note():\n",
    "    title = input (\"Enter the title of the note: \")\n",
    "    try:\n",
    "        with open(f\"{title}.txt\", \"r\") as f:\n",
    "            print(f.read())    \n",
    "        except filenotfounderror:\n",
    "        print(f\"note'{title}'not found')\n",
    "def list_notes():\n",
    "              notes = [f for f in os.listdir() if f.endswith(\".txt\")]\n",
    "              if notes:\n",
    "              print(\"list of notes:\")\n",
    "              for note in notes:\n",
    "                 print(note)\n",
    "              else:\n",
    "              print(\"no notes found.\")\n",
    "              \n",
    "def delete_note():\n",
    "              title = input(\"enter the title of the note: \")\n",
    "              try:\n",
    "              os.remove(f\"{title}.txt\")\n",
    "              print(f\"note'{title}' has been deleted)\n",
    "              \n",
    "                    \n",
    "def menu():\n",
    "                    while true:\n",
    "                    print(\"note-taking app\")\n",
    "                    print(\"1. create a note\")\n",
    "                    print(\"2. view a note\")\n",
    "                    print(\"3. list all note\")\n",
    "                    print(\"4. delete a note\")\n",
    "                    print(\"5. exit\")\n",
    "                    choice = int(input(\"enter your choice\"))\n",
    "                    if choice == 1\n",
    "                       create_note()\n",
    "                    elif choice == 2:\n",
    "                       view_note()\n",
    "                    "
   ]
  },
  {
   "cell_type": "code",
   "execution_count": 26,
   "id": "1dfdfe63",
   "metadata": {},
   "outputs": [],
   "source": [
    "import pandas as pd\n",
    "import tkinter as tk\n",
    "from tkinter import messagebox\n",
    "\n",
    "\n",
    "root = tk.Tk()\n",
    "root.title(\"Note App\")\n",
    "\n",
    "\n",
    "root.geometry(\"600x400\")\n",
    "\n",
    "titleLabel = tk.Label(root, text=\"Make a new note!\", font=(\"Helvetica\", 20))\n",
    "titleLabel.pack(pady=20)\n",
    "\n",
    "noteLabel = tk.Label(root, text=\"Note:\", font=(\"Helvetica\", 18))\n",
    "noteLabel.pack(pady=10)\n",
    "\n",
    "noteEntry = tk.Entry(root, width=50, font=(\"Helvetica\", 14))\n",
    "noteEntry.pack(pady=10)\n",
    "\n",
    "def store_note():\n",
    "    noteStr = noteEntry.get()  # Getting the note\n",
    "    \n",
    "    noteDF = pd.DataFrame([noteStr], columns=[\"Note\"])\n",
    "    \n",
    "    noteDF.to_csv(\"note.csv\", index=False)\n",
    "    \n",
    "    messagebox.showinfo(\"Success!\", \"Note saved successfully.\")\n",
    "    \n",
    "    noteEntry.delete(0, tk.END)\n",
    "\n",
    "\n",
    "saveButton = tk.Button(root, text=\"Save note\", command=store_note)\n",
    "saveButton.pack(pady=20)\n",
    "\n",
    "root.mainloop()\n"
   ]
  },
  {
   "cell_type": "code",
   "execution_count": 22,
   "id": "d7f3f6dd",
   "metadata": {},
   "outputs": [],
   "source": [
    "class NoteApp:\n",
    "    #Define an empty list that will store the notes\n",
    "    notes = []\n",
    "    \n",
    "    #Define a method to add notes\n",
    "    def add_note(self, note):\n",
    "        self.notes.append(note)\n",
    "    \n",
    "    #Define a method to view all notes\n",
    "    def view_all_notes(self):\n",
    "        for note in notes:\n",
    "            print(note)\n"
   ]
  },
  {
   "cell_type": "markdown",
   "id": "fd2685f9",
   "metadata": {},
   "source": [
    "QUESTION\n",
    "WRITE A NOTE APP"
   ]
  },
  {
   "cell_type": "code",
   "execution_count": 2,
   "id": "87f1a0ab",
   "metadata": {},
   "outputs": [
    {
     "name": "stderr",
     "output_type": "stream",
     "text": [
      "Exception in Tkinter callback\n",
      "Traceback (most recent call last):\n",
      "  File \"C:\\Users\\Sylvanus Jerome\\.conda\\envs\\tensorflow\\lib\\tkinter\\__init__.py\", line 1892, in __call__\n",
      "    return self.func(*args)\n",
      "  File \"<ipython-input-2-c17c45e6a47d>\", line 36, in store_note\n",
      "    noteEntry.delete(0, tk.END)\n",
      "  File \"C:\\Users\\Sylvanus Jerome\\.conda\\envs\\tensorflow\\lib\\tkinter\\__init__.py\", line 3039, in delete\n",
      "    self.tk.call(self._w, 'delete', first, last)\n",
      "_tkinter.TclError: invalid command name \".!entry\"\n"
     ]
    }
   ],
   "source": [
    "# Note App in Python\n",
    "\n",
    "# Importing libraries\n",
    "import pandas as pd\n",
    "import tkinter as tk\n",
    "from tkinter import messagebox\n",
    "\n",
    "# Creating the main window\n",
    "root = tk.Tk()\n",
    "root.title(\"Note App\")\n",
    "\n",
    "# Setting window size\n",
    "root.geometry(\"600x400\")\n",
    "\n",
    "# Creating labels\n",
    "titleLabel = tk.Label(root, text=\"Make a new note!\", font=(\"Helvetica\", 20))\n",
    "titleLabel.pack(pady=20)\n",
    "\n",
    "noteLabel = tk.Label(root, text=\"Note:\", font=(\"Helvetica\", 18))\n",
    "noteLabel.pack(pady=10)\n",
    "\n",
    "# Creating text box for input\n",
    "noteEntry = tk.Entry(root, width=200, font=(\"Helvetica\", 14))\n",
    "noteEntry.pack(pady=10)\n",
    "\n",
    "# Creating a function to store the note\n",
    "def store_note():\n",
    "    noteStr = noteEntry.get()  # Getting the note\n",
    "    # Creating a dataframe\n",
    "    noteDF = pd.DataFrame([noteStr], columns=[\"Note\"])\n",
    "    # Exporting the dataframe to a csv file\n",
    "    noteDF.to_csv(\"note.csv\", index=False)\n",
    "    # Displaying a message for confirmation\n",
    "    messagebox.showinfo(\"Success!\", \"Note saved successfully.\")\n",
    "    # Clearing the entry box\n",
    "    noteEntry.delete(0, tk.END)\n",
    "\n",
    "# Creating a button to store the note\n",
    "saveButton = tk.Button(root, text=\"Save note\", command=store_note)\n",
    "saveButton.pack(pady=20)\n",
    "\n",
    "root.mainloop()"
   ]
  },
  {
   "cell_type": "code",
   "execution_count": null,
   "id": "f0082397",
   "metadata": {},
   "outputs": [],
   "source": []
  }
 ],
 "metadata": {
  "kernelspec": {
   "display_name": "Python 3",
   "language": "python",
   "name": "python3"
  },
  "language_info": {
   "codemirror_mode": {
    "name": "ipython",
    "version": 3
   },
   "file_extension": ".py",
   "mimetype": "text/x-python",
   "name": "python",
   "nbconvert_exporter": "python",
   "pygments_lexer": "ipython3",
   "version": "3.8.11"
  }
 },
 "nbformat": 4,
 "nbformat_minor": 5
}
