{
 "cells": [
  {
   "cell_type": "markdown",
   "id": "993752d8",
   "metadata": {},
   "source": [
    "### Weather Forcaste platform : Displaying the forcaste of five days weather conditions of any city that the user demands"
   ]
  },
  {
   "cell_type": "markdown",
   "id": "847ccb95",
   "metadata": {},
   "source": [
    "###### Getting the necessary tools to access the website to get weather information"
   ]
  },
  {
   "cell_type": "code",
   "execution_count": 5,
   "id": "d2fe47d1",
   "metadata": {},
   "outputs": [],
   "source": [
    "import requests\n",
    "import json"
   ]
  },
  {
   "cell_type": "markdown",
   "id": "a7164971",
   "metadata": {},
   "source": [
    "###### getting the necessary information from the user and displaying the actual weather condition"
   ]
  },
  {
   "cell_type": "code",
   "execution_count": 8,
   "id": "93ab8963",
   "metadata": {},
   "outputs": [
    {
     "name": "stdout",
     "output_type": "stream",
     "text": [
      "please input a location: port harcourt\n",
      "for location:port harcourt\n",
      "\n",
      "1 DATE 2023-01-31T00:00:00+01:00\n",
      "Weather condition is:  Rain, Partially cloudy\n",
      "\n",
      "2 DATE 2023-02-01T00:00:00+01:00\n",
      "Weather condition is:  Clear\n",
      "\n",
      "3 DATE 2023-02-02T00:00:00+01:00\n",
      "Weather condition is:  Rain\n",
      "\n",
      "4 DATE 2023-02-03T00:00:00+01:00\n",
      "Weather condition is:  Partially cloudy\n",
      "\n",
      "5 DATE 2023-02-04T00:00:00+01:00\n",
      "Weather condition is:  Partially cloudy\n",
      "\n"
     ]
    }
   ],
   "source": [
    "location = input('please input a location: ')\n",
    "print(f\"for location:{location}\")\n",
    "print(\"\")\n",
    "url='https://visual-crossing-weather.p.rapidapi.com/forecast'\n",
    "querystring={f'aggregateHours':'24','location':{location},'contentType':'json','unitGroup':'uk','shortColumnNames':'0'}\n",
    "headers={'X-RapidAPI-Key':'ed83b86376msh226b6fe8b7c7194p15c0ccjsn215cf860ecc7','X-RapidAPI-Host':'visual-crossing-weather.p.rapidapi.com'}\n",
    "response=requests.request('GET',url,headers=headers,params=querystring)\n",
    "data=json.loads(response.text)\n",
    "# print(json.dumps(data, indent=2))\n",
    "# data['locations']['']['values']\n",
    "data=data['locations'][f'{location}']['values'] \n",
    "for a, i in enumerate(data):\n",
    "    if 'datetimeStr':\n",
    "        a=a+1\n",
    "        print (a,'DATE',i['datetimeStr'])\n",
    "        print('Weather condition is: ',i['conditions'])\n",
    "        print(\"\")\n",
    "        if a==5:\n",
    "            break"
   ]
  },
  {
   "cell_type": "code",
   "execution_count": null,
   "id": "1976dcff",
   "metadata": {},
   "outputs": [],
   "source": []
  },
  {
   "cell_type": "markdown",
   "id": "ed64d501",
   "metadata": {},
   "source": []
  },
  {
   "cell_type": "code",
   "execution_count": null,
   "id": "e27c6499",
   "metadata": {},
   "outputs": [],
   "source": []
  },
  {
   "cell_type": "code",
   "execution_count": null,
   "id": "1f26cb49",
   "metadata": {},
   "outputs": [],
   "source": []
  }
 ],
 "metadata": {
  "kernelspec": {
   "display_name": "Python 3",
   "language": "python",
   "name": "python3"
  },
  "language_info": {
   "codemirror_mode": {
    "name": "ipython",
    "version": 3
   },
   "file_extension": ".py",
   "mimetype": "text/x-python",
   "name": "python",
   "nbconvert_exporter": "python",
   "pygments_lexer": "ipython3",
   "version": "3.8.11"
  }
 },
 "nbformat": 4,
 "nbformat_minor": 5
}
