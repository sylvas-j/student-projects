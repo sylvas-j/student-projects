{
 "cells": [
  {
   "cell_type": "code",
   "execution_count": 19,
   "id": "36cde68d",
   "metadata": {},
   "outputs": [
    {
     "name": "stdout",
     "output_type": "stream",
     "text": [
      "welcome to my quiz show!\n"
     ]
    }
   ],
   "source": [
    "print(\"welcome to my quiz show!\")"
   ]
  },
  {
   "cell_type": "code",
   "execution_count": 20,
   "id": "5d6d1412",
   "metadata": {},
   "outputs": [
    {
     "name": "stdout",
     "output_type": "stream",
     "text": [
      "do you want to play? yes\n"
     ]
    }
   ],
   "source": [
    "playing = input(\"do you want to play? \")\n",
    "\n"
   ]
  },
  {
   "cell_type": "code",
   "execution_count": 1,
   "id": "dc680b1d",
   "metadata": {},
   "outputs": [
    {
     "name": "stdout",
     "output_type": "stream",
     "text": [
      "daniel\n"
     ]
    }
   ],
   "source": [
    "playing = input()\n",
    "\n"
   ]
  },
  {
   "cell_type": "code",
   "execution_count": 27,
   "id": "e6318847",
   "metadata": {},
   "outputs": [
    {
     "name": "stdout",
     "output_type": "stream",
     "text": [
      "okay! lets play: )\n"
     ]
    }
   ],
   "source": [
    "if playing  == \"yes\":\n",
    "    quit()\n",
    "print(\"okay! lets play: )\")\n",
    "score = 0"
   ]
  },
  {
   "cell_type": "code",
   "execution_count": 8,
   "id": "607f8145",
   "metadata": {},
   "outputs": [
    {
     "name": "stdout",
     "output_type": "stream",
     "text": [
      "what does gpu stand for? graphics processing unit\n",
      "\n"
     ]
    },
    {
     "data": {
      "text/plain": [
       "''"
      ]
     },
     "execution_count": 8,
     "metadata": {},
     "output_type": "execute_result"
    }
   ],
   "source": [
    "asnwer = input(\"what does gpu stand for? \")\n",
    "input()\n",
    "if answer ==\"graphics proccessing unit\": \n",
    "print('correct!')\n",
    "score ++1\n",
    "score = score ++1\n",
    "else:\n",
    "    print(\"incorrect!\")\n"
   ]
  },
  {
   "cell_type": "code",
   "execution_count": null,
   "id": "0389e448",
   "metadata": {},
   "outputs": [
    {
     "name": "stdout",
     "output_type": "stream",
     "text": [
      "what does cpu stand for? central processing unit\n"
     ]
    }
   ],
   "source": [
    " answer = input(\"what does cpu stand for? \")\n",
    "input()\n",
    "if answer = \"cental proccessing unit\":\n",
    "    print('correct!')\n",
    "    else:\n",
    "        print(\"incorrect!\")\n"
   ]
  },
  {
   "cell_type": "code",
   "execution_count": null,
   "id": "a3931630",
   "metadata": {},
   "outputs": [],
   "source": [
    "answer = input(\"what does ram stand for? \")\n",
    "input()\n",
    "if answer = \"random access memory\":\n",
    "    print('correct!')\n",
    "    else:\n",
    "        print(\"incorrect\")\n"
   ]
  },
  {
   "cell_type": "code",
   "execution_count": null,
   "id": "953f53e5",
   "metadata": {},
   "outputs": [],
   "source": [
    " answer = input(\"what does psu stand for? \")\n",
    "input()\n",
    "if answer = \"power supply\":\n",
    "    print('correct!')\n",
    "    score ++1\n",
    "    else: \n",
    "        print(\"incorrect!\")\n",
    "        "
   ]
  },
  {
   "cell_type": "code",
   "execution_count": 18,
   "id": "b647b6fb",
   "metadata": {},
   "outputs": [
    {
     "ename": "SyntaxError",
     "evalue": "invalid syntax (<ipython-input-18-9027d71b99b4>, line 3)",
     "output_type": "error",
     "traceback": [
      "\u001b[1;36m  File \u001b[1;32m\"<ipython-input-18-9027d71b99b4>\"\u001b[1;36m, line \u001b[1;32m3\u001b[0m\n\u001b[1;33m    print(answer)\u001b[0m\n\u001b[1;37m    ^\u001b[0m\n\u001b[1;31mSyntaxError\u001b[0m\u001b[1;31m:\u001b[0m invalid syntax\n"
     ]
    }
   ],
   "source": [
    "print(\"you got \" + str(score)+ \"question correct!\")\n",
    "print(\"you got\" + str(score/4*100)= (\"questions correct!\")\n",
    "print(answer)"
   ]
  },
  {
   "cell_type": "code",
   "execution_count": null,
   "id": "da336fc2",
   "metadata": {},
   "outputs": [],
   "source": []
  },
  {
   "cell_type": "code",
   "execution_count": null,
   "id": "3746d022",
   "metadata": {},
   "outputs": [],
   "source": []
  }
 ],
 "metadata": {
  "kernelspec": {
   "display_name": "Python 3",
   "language": "python",
   "name": "python3"
  },
  "language_info": {
   "codemirror_mode": {
    "name": "ipython",
    "version": 3
   },
   "file_extension": ".py",
   "mimetype": "text/x-python",
   "name": "python",
   "nbconvert_exporter": "python",
   "pygments_lexer": "ipython3",
   "version": "3.8.11"
  }
 },
 "nbformat": 4,
 "nbformat_minor": 5
}
