{
 "cells": [
  {
   "cell_type": "markdown",
   "id": "64c9523d",
   "metadata": {},
   "source": [
    "\n",
    "# Music Downloader"
   ]
  },
  {
   "cell_type": "markdown",
   "id": "a70c8f72",
   "metadata": {},
   "source": [
    "- Create a program that prompts a user for a music title and connect to the web and download the song."
   ]
  },
  {
   "cell_type": "code",
   "execution_count": 4,
   "id": "361223f5",
   "metadata": {},
   "outputs": [],
   "source": [
    "import requests\n",
    "\n",
    "from bs4 import BeautifulSoup as bs"
   ]
  },
  {
   "cell_type": "markdown",
   "id": "196746a1",
   "metadata": {},
   "source": [
    "- 1 get contents from first page and parse it as a bsoup object"
   ]
  },
  {
   "cell_type": "markdown",
   "id": "7c2b8a81",
   "metadata": {},
   "source": [
    "- 2 get the first div, extract the href of the first anchor tag.\n",
    " "
   ]
  },
  {
   "cell_type": "markdown",
   "id": "1d021717",
   "metadata": {},
   "source": [
    "- 3 make a request to the extracted href link and parse the page as another bsoup object"
   ]
  },
  {
   "cell_type": "markdown",
   "id": "90ddd5d9",
   "metadata": {},
   "source": [
    "- 4 find all forms in the parsed html page, select the second form and get all the input tags in the form"
   ]
  },
  {
   "cell_type": "markdown",
   "id": "310a67dd",
   "metadata": {},
   "source": [
    "- 5 extract the values of the first two input tags"
   ]
  },
  {
   "cell_type": "markdown",
   "id": "195f6f07",
   "metadata": {},
   "source": [
    "- 6 use the extracted values to make a request to 'https://ww6.mp3quack.work/dl', next parse the html page as another bsoup object"
   ]
  },
  {
   "cell_type": "markdown",
   "id": "ee48d3ff",
   "metadata": {},
   "source": [
    "-  7 find all the anchor tags in the parsed bsoup object with class equal to 'download-iklan'. Retrieve the href link of the second anchor tag and then print it to an output cell."
   ]
  },
  {
   "cell_type": "markdown",
   "id": "6ef0ea9a",
   "metadata": {},
   "source": [
    "-  8 the link takes you to a page of the inputted song, where you then download a quality of your preference"
   ]
  },
  {
   "cell_type": "code",
   "execution_count": 5,
   "id": "bacdfa47",
   "metadata": {},
   "outputs": [
    {
     "name": "stdout",
     "output_type": "stream",
     "text": [
      "Enter a song: PARIWO\n",
      "Getting link to download\n",
      "Download music here: https://ytmp3cut.com/vECHL8A8lNg\n"
     ]
    }
   ],
   "source": [
    "name_of_song = input(\"Enter a song: \")\n",
    "print('Getting link to download')\n",
    "\n",
    "\n",
    "# 1\n",
    "url = 'https://ww6.mp3quack.work/search'\n",
    "main_response = requests.get(f'{url}/{name_of_song}')\n",
    "main_soup = bs(main_response.content, 'html.parser')\n",
    "\n",
    "\n",
    "# 2\n",
    "button_divs = main_soup.find_all('div', {'class':'button'})\n",
    "sub_url = button_divs[0].find_all('a')[1]['href']\n",
    "\n",
    "\n",
    "# 3\n",
    "sub_response = requests.get(sub_url)\n",
    "sub_soup = bs(sub_response.content, 'html.parser')\n",
    "\n",
    "\n",
    "\n",
    "# 4\n",
    "sub_form = sub_soup.find_all('form')\n",
    "input_tags = sub_form[1].find_all('input')\n",
    "\n",
    "\n",
    "# 5\n",
    "go_param = input_tags[0]['value']\n",
    "get_param = input_tags[1]['value']\n",
    "\n",
    "\n",
    "# 6\n",
    "sub_url = 'https://ww6.mp3quack.work/dl'\n",
    "sub_response = requests.get(f'{sub_url}/?go={go_param}&get={get_param}')\n",
    "sub_soup = bs(sub_response.content, 'html.parser')\n",
    "\n",
    "\n",
    "# 7\n",
    "iklan_anchors = sub_soup.find_all('a', {'class':'download-iklan'})\n",
    "mp3_download_link = iklan_anchors[1]['href']\n",
    "\n",
    "\n",
    "# 8\n",
    "print(f'Download music here: {mp3_download_link}')"
   ]
  },
  {
   "cell_type": "code",
   "execution_count": null,
   "id": "79e3a42b",
   "metadata": {},
   "outputs": [],
   "source": []
  }
 ],
 "metadata": {
  "kernelspec": {
   "display_name": "Python 3",
   "language": "python",
   "name": "python3"
  },
  "language_info": {
   "codemirror_mode": {
    "name": "ipython",
    "version": 3
   },
   "file_extension": ".py",
   "mimetype": "text/x-python",
   "name": "python",
   "nbconvert_exporter": "python",
   "pygments_lexer": "ipython3",
   "version": "3.8.11"
  }
 },
 "nbformat": 4,
 "nbformat_minor": 5
}
