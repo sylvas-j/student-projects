{
 "cells": [
  {
   "cell_type": "markdown",
   "id": "bf185549",
   "metadata": {},
   "source": [
    "# CREATE A CLOCK WITH DIFFERENT TIMEZONES"
   ]
  },
  {
   "cell_type": "markdown",
   "id": "992aa443",
   "metadata": {},
   "source": [
    "### importing the modules"
   ]
  },
  {
   "cell_type": "code",
   "execution_count": 2,
   "id": "bc367850",
   "metadata": {},
   "outputs": [],
   "source": [
    "import tkinter as tk\n",
    "from tkinter import \n",
    "from tkinter import ttk\n",
    "import time\n",
    "from time import strftime\n",
    "import datetime\n",
    "import pytz"
   ]
  },
  {
   "cell_type": "markdown",
   "id": "64432b56",
   "metadata": {},
   "source": [
    "### the base gui"
   ]
  },
  {
   "cell_type": "code",
   "execution_count": 207,
   "id": "7354c721",
   "metadata": {},
   "outputs": [
    {
     "data": {
      "text/plain": [
       "''"
      ]
     },
     "execution_count": 207,
     "metadata": {},
     "output_type": "execute_result"
    }
   ],
   "source": [
    "roof = tk.Tk()\n",
    "roof.title('CLOCK')\n",
    "roof.geometry('500x250')"
   ]
  },
  {
   "cell_type": "markdown",
   "id": "e7b8ba42",
   "metadata": {},
   "source": [
    "### creating the tabs"
   ]
  },
  {
   "cell_type": "code",
   "execution_count": 208,
   "id": "6ae30a4c",
   "metadata": {},
   "outputs": [],
   "source": [
    "##tabs\n",
    "tab = ttk.Notebook(roof)\n",
    "CLOCK = ttk.Frame(tab)\n",
    "TIMEZONES = ttk.Frame(tab)\n",
    "\n",
    "tab.add(CLOCK,text='clock')\n",
    "tab.add(TIMEZONES,text='timezones')\n",
    "tab.pack(expand=1,fill=\"both\")"
   ]
  },
  {
   "cell_type": "markdown",
   "id": "e3789453",
   "metadata": {},
   "source": [
    "### constructing the functions"
   ]
  },
  {
   "cell_type": "code",
   "execution_count": 209,
   "id": "6a6ad73e",
   "metadata": {
    "scrolled": true
   },
   "outputs": [],
   "source": [
    "#timezones\n",
    "def timezone_ny():\n",
    "    time_ny=datetime.datetime.now(pytz.timezone('America/New_York'))\n",
    "    ny = time_ny.strftime(' %I:%M:%S %p')\n",
    "    clock_NY.configure(text=ny)\n",
    "    clock_NY.after(1000, timezone_ny)\n",
    "\n",
    "def timezone_na():\n",
    "    time_na=datetime.datetime.now(pytz.timezone('Africa/Nairobi'))\n",
    "    na = time_na.strftime(' %I:%M:%S %p')\n",
    "    clock_NA.configure(text=na)\n",
    "    clock_NA.after(1000, timezone_na)\n",
    "\n",
    "\n",
    "def time():\n",
    "    string = strftime('%I:%M:%S %p') \n",
    "    clock.configure(text=string)\n",
    "    clock.after(1000, time)\n",
    "    string_date = strftime('%a-%b-%y')\n",
    "    days.configure(text=string_date)"
   ]
  },
  {
   "cell_type": "markdown",
   "id": "b672217d",
   "metadata": {},
   "source": [
    "### displaying the information using labels"
   ]
  },
  {
   "cell_type": "code",
   "execution_count": 210,
   "id": "d8e58087",
   "metadata": {},
   "outputs": [],
   "source": [
    "##labels\n",
    "days = ttk.Label(CLOCK,font=('Adlery Pro',62,'bold'),foreground='green')\n",
    "#days.grid(row=10,column=8)\n",
    "days.pack(anchor = 'center')\n",
    "clock = ttk.Label(CLOCK,font=('Adlery Pro',62,'bold'),foreground='green')\n",
    "#clock.grid(row=5,column=8)\n",
    "clock.pack(anchor='center')"
   ]
  },
  {
   "cell_type": "code",
   "execution_count": 211,
   "id": "e1fc86a4",
   "metadata": {
    "scrolled": true
   },
   "outputs": [],
   "source": [
    "new_york = ttk.Label(TIMEZONES,text='The time in New York is ',font=('Adlery Pro',35,'bold'),foreground='green')\n",
    "new_york.pack(anchor = 'center')\n",
    "clock_NY=ttk.Label(TIMEZONES,font=('Adlery Pro',35,'bold'),foreground='green')\n",
    "clock_NY.pack(anchor = 'center')\n",
    "space = ttk.Label(TIMEZONES,text='                        ',font=('Adlery Pro',15,'bold'),foreground='green',background='black')\n",
    "space.pack(anchor = 'center')\n",
    "london = ttk.Label(TIMEZONES,text='The time in Nairobi is ',font=('Adlery Pro',35,'bold'),foreground='green')\n",
    "london.pack(anchor = 'center')\n",
    "clock_NA=ttk.Label(TIMEZONES,font=('Adlery Pro',35,'bold'),foreground='green',)\n",
    "clock_NA.pack(anchor = 'center')"
   ]
  },
  {
   "cell_type": "markdown",
   "id": "9b055c48",
   "metadata": {},
   "source": [
    "### function calls"
   ]
  },
  {
   "cell_type": "code",
   "execution_count": 212,
   "id": "ce4f44d7",
   "metadata": {
    "scrolled": true
   },
   "outputs": [],
   "source": [
    "##function calls\n",
    "time()\n",
    "timezone_ny()\n",
    "timezone_na()"
   ]
  },
  {
   "cell_type": "code",
   "execution_count": null,
   "id": "0054fa88",
   "metadata": {
    "scrolled": true
   },
   "outputs": [],
   "source": [
    "mainloop()"
   ]
  },
  {
   "cell_type": "code",
   "execution_count": null,
   "id": "272926e7",
   "metadata": {},
   "outputs": [],
   "source": []
  }
 ],
 "metadata": {
  "kernelspec": {
   "display_name": "Python 3",
   "language": "python",
   "name": "python3"
  },
  "language_info": {
   "codemirror_mode": {
    "name": "ipython",
    "version": 3
   },
   "file_extension": ".py",
   "mimetype": "text/x-python",
   "name": "python",
   "nbconvert_exporter": "python",
   "pygments_lexer": "ipython3",
   "version": "3.8.11"
  }
 },
 "nbformat": 4,
 "nbformat_minor": 5
}
