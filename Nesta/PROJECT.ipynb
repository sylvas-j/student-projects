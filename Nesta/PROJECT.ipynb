{
 "cells": [
  {
   "cell_type": "markdown",
   "id": "25b1b4f5",
   "metadata": {},
   "source": [
    "### Question\n"
   ]
  },
  {
   "cell_type": "markdown",
   "id": "8b1c873f",
   "metadata": {},
   "source": [
    "create a program using python language that retrieves the menu of any fast food joint of the users choice and allows the user to make mutiple selections of the meal the user wants and gives the total cost "
   ]
  },
  {
   "cell_type": "code",
   "execution_count": null,
   "id": "bf73d5c6",
   "metadata": {},
   "outputs": [],
   "source": [
    " \n",
    "#Restaurant list \n",
    "restaurant_list = [\"McDonalds\",\"Subway\",\"Burger King\"]\n",
    "\n",
    "restaurant_menu = { \n",
    "  \"McDonalds\": {\n",
    "    \"Big Mac\": 3.99,\n",
    "    \"French Fries\": 2.99,\n",
    "    \"Milkshake\": 2.49\n",
    "  },\n",
    "  \"Subway\": {\n",
    "    \"Footlong Sub\": 6.50,\n",
    "    \"Side Salad\": 3.50,\n",
    "    \"Soda\": 1.50\n",
    "  },\n",
    "  \"Burger King\": {\n",
    "    \"Whopper\": 4.99,\n",
    "    \"Fries\": 2.50,\n",
    "    \"Milkshake\": 2.99\n",
    "  }\n",
    "}\n",
    "\n",
    "\n",
    "\n",
    "\n",
    "\n",
    "\n",
    "\n",
    "# Display order"
   ]
  },
  {
   "cell_type": "code",
   "execution_count": null,
   "id": "69934805",
   "metadata": {},
   "outputs": [],
   "source": [
    "order = []\n",
    "choice=[]"
   ]
  },
  {
   "cell_type": "code",
   "execution_count": 10,
   "id": "e05ee482",
   "metadata": {},
   "outputs": [
    {
     "name": "stdout",
     "output_type": "stream",
     "text": [
      "WELCOME\n",
      "where would you like to order from\n",
      "McDonalds\n",
      "Subway\n",
      "Burger King\n",
      "Enter 'done' if your done\n",
      "Subway\n",
      "Footlong Sub: 6.5\n",
      "Side Salad: 3.5\n",
      "Soda: 1.5\n",
      "\n",
      "what item do you want? Soda\n",
      "\n",
      "where would you like to order from\n",
      "McDonalds\n",
      "Subway\n",
      "Burger King\n",
      "Enter 'done' if your done\n",
      "Subway\n",
      "Footlong Sub: 6.5\n",
      "Side Salad: 3.5\n",
      "Soda: 1.5\n",
      "\n",
      "what item do you want? Side Salad\n",
      "\n",
      "where would you like to order from\n",
      "McDonalds\n",
      "Subway\n",
      "Burger King\n",
      "Enter 'done' if your done\n",
      "done\n"
     ]
    }
   ],
   "source": [
    "print('WELCOME')\n",
    "while True:\n",
    "    stem=print(\"where would you like to order from\")\n",
    "    for  price in restaurant_menu:\n",
    "            print(price)\n",
    "    print(\"Enter 'done' if your done\")\n",
    "    select=input()\n",
    "    if select=='done':\n",
    "        break\n",
    "    else:\n",
    "        for i in restaurant_menu[select]:\n",
    "            print(f'{i}: {restaurant_menu[select][i]}')\n",
    "        print('')\n",
    "        if select in restaurant_menu:\n",
    "            item=input('what item do you want? ')\n",
    "            if item in restaurant_menu['McDonalds']:\n",
    "                order.append(restaurant_menu['McDonalds'][item])\n",
    "                choice.append(item)\n",
    "            elif item in restaurant_menu['Subway']:\n",
    "                order.append(restaurant_menu['Subway'][item])\n",
    "                choice.append(item)\n",
    "            elif item in restaurant_menu['Burger King']:\n",
    "                order.append(restaurant_menu['Burger King'][item])\n",
    "                choice.append(item)\n",
    "            else:\n",
    "                print('item not found')\n",
    "            print('')\n",
    "        else:\n",
    "            print('Not available')\n"
   ]
  },
  {
   "cell_type": "code",
   "execution_count": 11,
   "id": "3f42a139",
   "metadata": {
    "scrolled": false
   },
   "outputs": [
    {
     "name": "stdout",
     "output_type": "stream",
     "text": [
      "Total order\n",
      "\n",
      "1 Soda: 1.5\n",
      "2 Soda: 1.5\n",
      "3 Side Salad: 3.5\n",
      "Tolal amount: 6.5\n"
     ]
    }
   ],
   "source": [
    "print('Total order')\n",
    "print('')\n",
    "for i,(l,m) in enumerate(zip(choice,order)):\n",
    "    print(i+1,f'{l}: {m}')\n",
    "Sum=sum(order)\n",
    "print(f'Tolal amount: {Sum}')"
   ]
  },
  {
   "cell_type": "code",
   "execution_count": null,
   "id": "7e5a6e1c",
   "metadata": {},
   "outputs": [],
   "source": []
  },
  {
   "cell_type": "code",
   "execution_count": null,
   "id": "5f11931d",
   "metadata": {},
   "outputs": [],
   "source": []
  }
 ],
 "metadata": {
  "kernelspec": {
   "display_name": "Python 3",
   "language": "python",
   "name": "python3"
  },
  "language_info": {
   "codemirror_mode": {
    "name": "ipython",
    "version": 3
   },
   "file_extension": ".py",
   "mimetype": "text/x-python",
   "name": "python",
   "nbconvert_exporter": "python",
   "pygments_lexer": "ipython3",
   "version": "3.8.11"
  }
 },
 "nbformat": 4,
 "nbformat_minor": 5
}
