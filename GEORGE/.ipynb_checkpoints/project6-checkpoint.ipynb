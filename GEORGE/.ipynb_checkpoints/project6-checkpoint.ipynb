{
 "cells": [
  {
   "cell_type": "markdown",
   "id": "cc8289f4",
   "metadata": {},
   "source": [
    "# NEWS SCRAPPER"
   ]
  },
  {
   "cell_type": "markdown",
   "id": "361b64c8",
   "metadata": {},
   "source": [
    "## IMPORT MODULES"
   ]
  },
  {
   "cell_type": "code",
   "execution_count": 1,
   "id": "95cacc63",
   "metadata": {},
   "outputs": [],
   "source": [
    "import requests\n",
    "from bs4 import BeautifulSoup as bs\n",
    "import re"
   ]
  },
  {
   "cell_type": "markdown",
   "id": "9e533ff5",
   "metadata": {},
   "source": [
    "# FUNCTIONS"
   ]
  },
  {
   "cell_type": "markdown",
   "id": "166c8794",
   "metadata": {},
   "source": [
    "## GET THE SPORT HEADLINE "
   ]
  },
  {
   "cell_type": "code",
   "execution_count": 8,
   "id": "ed8b9162",
   "metadata": {},
   "outputs": [],
   "source": [
    "def sportnews(url):\n",
    "    response=requests.get(url)\n",
    "    soup=bs(response.text,'html.parser')\n",
    "    cont=soup.find('div',class_='ssrcss-p44stw-Container eqfxz1e2')\n",
    "    word=cont.find_all('p')\n",
    "    mord=cont.find_all('a',attrs={'href':True})\n",
    "    sad=[]\n",
    "    mad=[]\n",
    "    for a in mord:\n",
    "        if re.search(r'[0-9]{2,}',a.get('href')):\n",
    "            sad.append(a.get('href'))\n",
    "    for i in word:\n",
    "        mad.append(i.get_text())\n",
    "    return(sad,mad)"
   ]
  },
  {
   "cell_type": "markdown",
   "id": "c30bc2c8",
   "metadata": {},
   "source": [
    "## SPORT HEADLINE SUMMARY "
   ]
  },
  {
   "cell_type": "code",
   "execution_count": 9,
   "id": "09de0507",
   "metadata": {},
   "outputs": [],
   "source": [
    "def snews(url):\n",
    "    response=requests.get(url)\n",
    "    soup=bs(response.text,'html.parser')\n",
    "    elements=soup.find_all('span',attrs={'data-reactid':True})\n",
    "    c=''\n",
    "    for element in elements:\n",
    "        b=element.text\n",
    "        c+=str(b)\n",
    "    match=re.findall(r'[^.]*[.]',c)\n",
    "    for i in range(10):\n",
    "        print(match[i])"
   ]
  },
  {
   "cell_type": "markdown",
   "id": "552bd4be",
   "metadata": {},
   "source": [
    "## OTHER CATEGORIES HEADLINE "
   ]
  },
  {
   "cell_type": "code",
   "execution_count": 10,
   "id": "87d24a44",
   "metadata": {},
   "outputs": [],
   "source": [
    "def othernews(url):\n",
    "    page = requests.get(url)\n",
    "    soup = bs(page.text,'html.parser')\n",
    "    articles=[]\n",
    "    data=[]\n",
    "    mata=[]\n",
    "    soup=soup.find('div',class_='gel-layout__item gs-u-display-block@xxl advert-page')\n",
    "    art=soup.find_all('h3')\n",
    "    sat=soup.find_all('a', attrs={'href':True})\n",
    "    for a in sat:\n",
    "        if re.search(r'\\d+$',a.get('href')):\n",
    "            articles.append(a.get('href'))\n",
    "    for i,l in enumerate(articles):\n",
    "        articles[i]=re.sub(r'.*?(/news)',r'\\1',l)\n",
    "        mata.append(articles[i])\n",
    "    for i in art:\n",
    "        data.append(i.get_text())\n",
    "    return(data,mata)"
   ]
  },
  {
   "cell_type": "markdown",
   "id": "b82891e8",
   "metadata": {},
   "source": [
    "## OTHER CATEGORIES SUMMARY "
   ]
  },
  {
   "cell_type": "code",
   "execution_count": 11,
   "id": "6062d690",
   "metadata": {},
   "outputs": [],
   "source": [
    "def onews(url):\n",
    "    response=requests.get(url)\n",
    "    soup=bs(response.text, 'html.parser')\n",
    "    elements=soup.find('article')\n",
    "    c=''\n",
    "    for element in elements:\n",
    "        b=element.text\n",
    "        c+=str(b)\n",
    "    match=re.findall(r'[^.]*[.]',c)\n",
    "    for i in range(10):\n",
    "        print(match[i])"
   ]
  },
  {
   "cell_type": "markdown",
   "id": "3cc77a7e",
   "metadata": {},
   "source": [
    "## CATEGORY SELECTION AND HEADLINE SUMMARY"
   ]
  },
  {
   "cell_type": "code",
   "execution_count": 12,
   "id": "26bf1b4a",
   "metadata": {},
   "outputs": [
    {
     "name": "stdout",
     "output_type": "stream",
     "text": [
      "News categories:\n",
      "1.politics\n",
      "2.sport\n",
      "3.entertainment\n",
      "4.technology\n",
      "5.business\n",
      "Select a category: sport\n",
      "1 Transfer updates & Man City news conference\n",
      "2 Rybakina to face Sabalenka in Melbourne final\n",
      "3 Stokes & Sciver among ICC Cricketer of the Year winners\n",
      "4 Honouring the real-life 'Rocky' who floored Ali\n",
      "5 Watch: McIlroy snubs Reed after court summons. VideoWatch: McIlroy snubs Reed after court summons\n",
      "what headline are you interested in: 2\n",
      "\n",
      "By Jonathan JurejkoBBC Sport at Melbourne ParkLast updated on 34 minutes ago34 minutes ago.\n",
      "Last updated on 34 minutes ago34 minutes ago34 minutes ago34 minutes ago.\n",
      "From the section TennisFrom the section Australian Open 2023Melbourne Park  16-29 JanuaryCommentary every day from 07:00 GMT on BBC Radio 5 Sports Extra 'Tennis Breakfast' live from Melbourne, with selected live text commentaries and match reports on the BBC Sport website & appWimbledon champion Elena Rybakina has another shot at a major title after reaching the Australian Open final where she will meet Belarusian fifth seed Aryna Sabalenka.\n",
      "Rybakina, 23, won 7-6 (7-4) 6-3 against Victoria Azarenka, ending the two-time champion's hopes of winning the title 10 years after her last triumph.\n",
      "Sabalenka beat Poland's Magda Linette to reach her first major final.\n",
      "The powerful 24-year-old won 7-6 (7-1) 6-2 against her unseeded opponent.\n",
      "Sabalenka was the heavy favourite to beat 30-year-old Linette, who had never been past the third round of a Grand Slam event before, and grew in confidence as the match wore on.\n",
      "After losing three times in major semi-finals, Sabalenka's relief was evident after securing her place in Saturday's showpiece against another big-hitter.\n",
      "\"I wouldn't say I started really well but in the tie-break I found my rhythm and trusted myself and started going for my shots,\" said Sabalenka, who is on a 10-match winning streak after lifting the Adelaide title.\n",
      "Reaction to Rybakina and Sabalenka reaching the Australian Open finalGB's Hewett into wheelchair singles and doubles finalsDjokovic's father filmed with Putin supportersRybakina, seeded 22nd, will contest her second major final after her triumph at the All England Club last year.\n"
     ]
    }
   ],
   "source": [
    "categories=['politics','sport','entertainment','technology','business',]\n",
    "print('News categories:')\n",
    "for i, category in enumerate(categories):\n",
    "    print(f'{i+1}.{category}')\n",
    "sal='https://www.bbc.com'\n",
    "fat=['1','2','3','4','5']\n",
    "sel=input('Select a category: ')\n",
    "if sel not in categories:\n",
    "    print('category not found')\n",
    "else:\n",
    "    if sel=='sport':\n",
    "        url=sal+'/'+sel\n",
    "        sad,mad=sportnews(url)\n",
    "        for l,i in enumerate(mad[2:7]):\n",
    "            print(l+1,i)\n",
    "        choice=input('what headline are you interested in: ')\n",
    "        print()\n",
    "        if choice in fat:\n",
    "            url=f'{sal}{sad[int(choice)]}'\n",
    "            snews(url)\n",
    "        else:\n",
    "            print('ERROR')\n",
    "    else:\n",
    "        url=sal+'/'+sel\n",
    "        data,mata=othernews(url)\n",
    "        for i,l in enumerate(data):\n",
    "            print(i+1,l)\n",
    "            if i==4:\n",
    "                break\n",
    "        choice=input('what headline are you interested in: ')\n",
    "        print()\n",
    "        if choice in fat:\n",
    "            a=int(choice)-1\n",
    "            url=f'{sal}{mata[a]}'\n",
    "            onews(url)\n",
    "        else:\n",
    "            print('ERROR')"
   ]
  },
  {
   "cell_type": "code",
   "execution_count": null,
   "id": "be0f7664",
   "metadata": {},
   "outputs": [],
   "source": [
    " "
   ]
  }
 ],
 "metadata": {
  "kernelspec": {
   "display_name": "Python 3",
   "language": "python",
   "name": "python3"
  },
  "language_info": {
   "codemirror_mode": {
    "name": "ipython",
    "version": 3
   },
   "file_extension": ".py",
   "mimetype": "text/x-python",
   "name": "python",
   "nbconvert_exporter": "python",
   "pygments_lexer": "ipython3",
   "version": "3.8.11"
  }
 },
 "nbformat": 4,
 "nbformat_minor": 5
}
