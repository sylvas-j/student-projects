{
 "cells": [
  {
   "cell_type": "markdown",
   "id": "cc8289f4",
   "metadata": {},
   "source": [
    "# NEWS SCRAPPER"
   ]
  },
  {
   "cell_type": "markdown",
   "id": "361b64c8",
   "metadata": {},
   "source": [
    "## IMPORT MODULES"
   ]
  },
  {
   "cell_type": "code",
   "execution_count": 7,
   "id": "95cacc63",
   "metadata": {},
   "outputs": [],
   "source": [
    "import requests\n",
    "from bs4 import BeautifulSoup as bs\n",
    "import re"
   ]
  },
  {
   "cell_type": "markdown",
   "id": "9e533ff5",
   "metadata": {},
   "source": [
    "# FUNCTIONS"
   ]
  },
  {
   "cell_type": "markdown",
   "id": "166c8794",
   "metadata": {},
   "source": [
    "## GET THE SPORT HEADLINE "
   ]
  },
  {
   "cell_type": "code",
   "execution_count": 8,
   "id": "ed8b9162",
   "metadata": {},
   "outputs": [],
   "source": [
    "def sportnews(url):\n",
    "    response=requests.get(url)\n",
    "    soup=bs(response.text,'html.parser')\n",
    "    cont=soup.find('div',class_='ssrcss-p44stw-Container eqfxz1e2')\n",
    "    word=cont.find_all('p')\n",
    "    mord=cont.find_all('a',attrs={'href':True})\n",
    "    sad=[]\n",
    "    mad=[]\n",
    "    for a in mord:\n",
    "        if re.search(r'[0-9]{2,}',a.get('href')):\n",
    "            sad.append(a.get('href'))\n",
    "    for i in word:\n",
    "        mad.append(i.get_text())\n",
    "    return(sad,mad)"
   ]
  },
  {
   "cell_type": "markdown",
   "id": "c30bc2c8",
   "metadata": {},
   "source": [
    "## SPORT HEADLINE SUMMARY "
   ]
  },
  {
   "cell_type": "code",
   "execution_count": 9,
   "id": "09de0507",
   "metadata": {},
   "outputs": [],
   "source": [
    "def snews(url):\n",
    "    response=requests.get(url)\n",
    "    soup=bs(response.text,'html.parser')\n",
    "    elements=soup.find_all('span',attrs={'data-reactid':True})\n",
    "    c=''\n",
    "    for element in elements:\n",
    "        b=element.text\n",
    "        c+=str(b)\n",
    "    match=re.findall(r'[^.]*[.]',c)\n",
    "    for i in range(10):\n",
    "        print(match[i])"
   ]
  },
  {
   "cell_type": "markdown",
   "id": "552bd4be",
   "metadata": {},
   "source": [
    "## OTHER CATEGORIES HEADLINE "
   ]
  },
  {
   "cell_type": "code",
   "execution_count": 10,
   "id": "87d24a44",
   "metadata": {},
   "outputs": [],
   "source": [
    "def othernews(url):\n",
    "    page = requests.get(url)\n",
    "    soup = bs(page.text,'html.parser')\n",
    "    articles=[]\n",
    "    data=[]\n",
    "    mata=[]\n",
    "    soup=soup.find('div',class_='gel-layout__item gs-u-display-block@xxl advert-page')\n",
    "    art=soup.find_all('h3')\n",
    "    sat=soup.find_all('a', attrs={'href':True})\n",
    "    for a in sat:\n",
    "        if re.search(r'\\d+$',a.get('href')):\n",
    "            articles.append(a.get('href'))\n",
    "    for i,l in enumerate(articles):\n",
    "        articles[i]=re.sub(r'.*?(/news)',r'\\1',l)\n",
    "        mata.append(articles[i])\n",
    "    for i in art:\n",
    "        data.append(i.get_text())\n",
    "    return(data,mata)"
   ]
  },
  {
   "cell_type": "markdown",
   "id": "b82891e8",
   "metadata": {},
   "source": [
    "## OTHER CATEGORIES SUMMARY "
   ]
  },
  {
   "cell_type": "code",
   "execution_count": 11,
   "id": "6062d690",
   "metadata": {},
   "outputs": [],
   "source": [
    "def onews(url):\n",
    "    response=requests.get(url)\n",
    "    soup=bs(response.text, 'html.parser')\n",
    "    elements=soup.find('article')\n",
    "    c=''\n",
    "    for element in elements:\n",
    "        b=element.text\n",
    "        c+=str(b)\n",
    "    match=re.findall(r'[^.]*[.]',c)\n",
    "    for i in range(10):\n",
    "        print(match[i])"
   ]
  },
  {
   "cell_type": "markdown",
   "id": "3cc77a7e",
   "metadata": {},
   "source": [
    "## CATEGORY SELECTION AND HEADLINE SUMMARY"
   ]
  },
  {
   "cell_type": "code",
   "execution_count": 13,
   "id": "26bf1b4a",
   "metadata": {},
   "outputs": [
    {
     "name": "stdout",
     "output_type": "stream",
     "text": [
      "News categories:\n",
      "1.politics\n",
      "2.sport\n",
      "3.entertainment\n",
      "4.technology\n",
      "5.business\n",
      "Select a category: business\n",
      "1 Biden moves to halt US exports to Huawei - reports\n",
      "2 What impact has Brexit had on the UK economy?\n",
      "3 Green projects are boosting UK growth - CBI report\n",
      "4 Mining giant sorry for losing radioactive capsule\n",
      "5 How to add 'sizzle' to meat-free products\n",
      "what headline are you interested in: 5\n",
      "\n",
      "How to add 'sizzle' to meat-free productsPublished9 hours agoShareclose panelShare pageCopy linkAbout sharingImage source, Getty ImagesImage caption, Making better fats could be the key to tastier meat-free productsBy Christine RoTechnology of Business reporterMeat-free steak and sausages seem to be everywhere these days.\n",
      " Perhaps you have tried one.\n",
      "But did you like it? Was it as good as the real thing? If it left you underwhelmed then it could be down to one missing ingredient - animal fats.\n",
      "Many firms are betting that finding a good alternative to animal fats will provide a breakthrough when it comes to the flavour of meat-free products.\n",
      "One person who is evangelical about better fat is Max Jamilly, co-founder of London-based Hoxton Farms.\n",
      "\"All of the taste, the sizzle, the browning, comes from fat,\" he enthuses.\n",
      " Hoxton Farms is making animal fat, without the animals.\n",
      "They start with just a few animal cells that are stored in a vat of liquid nitrogen.\n",
      "Those cells are revived in an incubator, and cultured for around three weeks in a stirred tank bioreactor, essentially a laboratory mixer.\n",
      " During that time, the cells are fed with a proprietary mixture of plant ingredients.\n"
     ]
    }
   ],
   "source": [
    "categories=['politics','sport','entertainment','technology','business',]\n",
    "print('News categories:')\n",
    "for i, category in enumerate(categories):\n",
    "    print(f'{i+1}.{category}')\n",
    "sal='https://www.bbc.com'\n",
    "fat=['1','2','3','4','5']\n",
    "sel=input('Select a category: ')\n",
    "if sel not in categories:\n",
    "    print('category not found')\n",
    "else:\n",
    "    if sel=='sport':\n",
    "        url=sal+'/'+sel\n",
    "        sad,mad=sportnews(url)\n",
    "        for l,i in enumerate(mad[2:7]):\n",
    "            print(l+1,i)\n",
    "        choice=input('what headline are you interested in: ')\n",
    "        print()\n",
    "        if choice in fat:\n",
    "            url=f'{sal}{sad[int(choice)]}'\n",
    "            snews(url)\n",
    "        else:\n",
    "            print('ERROR')\n",
    "    else:\n",
    "        url=sal+'/'+sel\n",
    "        data,mata=othernews(url)\n",
    "        for i,l in enumerate(data):\n",
    "            print(i+1,l)\n",
    "            if i==4:\n",
    "                break\n",
    "        choice=input('what headline are you interested in: ')\n",
    "        print()\n",
    "        if choice in fat:\n",
    "            a=int(choice)-1\n",
    "            url=f'{sal}{mata[a]}'\n",
    "            onews(url)\n",
    "        else:\n",
    "            print('ERROR')"
   ]
  },
  {
   "cell_type": "code",
   "execution_count": null,
   "id": "be0f7664",
   "metadata": {},
   "outputs": [],
   "source": [
    " "
   ]
  }
 ],
 "metadata": {
  "kernelspec": {
   "display_name": "Python 3",
   "language": "python",
   "name": "python3"
  },
  "language_info": {
   "codemirror_mode": {
    "name": "ipython",
    "version": 3
   },
   "file_extension": ".py",
   "mimetype": "text/x-python",
   "name": "python",
   "nbconvert_exporter": "python",
   "pygments_lexer": "ipython3",
   "version": "3.8.11"
  }
 },
 "nbformat": 4,
 "nbformat_minor": 5
}
