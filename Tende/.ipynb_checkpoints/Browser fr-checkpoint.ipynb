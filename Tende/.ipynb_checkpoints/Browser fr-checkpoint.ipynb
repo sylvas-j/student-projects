{
 "cells": [
  {
   "cell_type": "code",
   "execution_count": null,
   "metadata": {
    "scrolled": true
   },
   "outputs": [],
   "source": [
    "!pip install pyqt5"
   ]
  },
  {
   "cell_type": "code",
   "execution_count": null,
   "metadata": {},
   "outputs": [],
   "source": [
    "!pip install PyQt5-sip"
   ]
  },
  {
   "cell_type": "code",
   "execution_count": 9,
   "metadata": {},
   "outputs": [
    {
     "name": "stdout",
     "output_type": "stream",
     "text": [
      "Defaulting to user installation because normal site-packages is not writeableNote: you may need to restart the kernel to use updated packages.\n",
      "\n",
      "Requirement already satisfied: PyQtWebEngine in c:\\users\\10der\\appdata\\roaming\\python\\python39\\site-packages (5.15.6)\n",
      "Requirement already satisfied: PyQtWebEngine-Qt5>=5.15.0 in c:\\users\\10der\\appdata\\roaming\\python\\python39\\site-packages (from PyQtWebEngine) (5.15.2)\n",
      "Requirement already satisfied: PyQt5-sip<13,>=12.11 in c:\\users\\10der\\appdata\\roaming\\python\\python39\\site-packages (from PyQtWebEngine) (12.11.0)\n",
      "Requirement already satisfied: PyQt5>=5.15.4 in c:\\users\\10der\\appdata\\roaming\\python\\python39\\site-packages (from PyQtWebEngine) (5.15.7)\n",
      "Requirement already satisfied: PyQt5-Qt5>=5.15.0 in c:\\users\\10der\\appdata\\roaming\\python\\python39\\site-packages (from PyQt5>=5.15.4->PyQtWebEngine) (5.15.2)\n"
     ]
    }
   ],
   "source": [
    "!pip install PyQtWebEngine"
   ]
  },
  {
   "cell_type": "code",
   "execution_count": 1,
   "metadata": {},
   "outputs": [
    {
     "ename": "SystemExit",
     "evalue": "0",
     "output_type": "error",
     "traceback": [
      "An exception has occurred, use %tb to see the full traceback.\n",
      "\u001b[1;31mSystemExit\u001b[0m\u001b[1;31m:\u001b[0m 0\n"
     ]
    },
    {
     "name": "stderr",
     "output_type": "stream",
     "text": [
      "C:\\Users\\10der\\AppData\\Roaming\\Python\\Python39\\site-packages\\IPython\\core\\interactiveshell.py:3450: UserWarning: To exit: use 'exit', 'quit', or Ctrl-D.\n",
      "  warn(\"To exit: use 'exit', 'quit', or Ctrl-D.\", stacklevel=1)\n"
     ]
    }
   ],
   "source": [
    "# Importing Dependencies from pypi\n",
    "import sys\n",
    "from PyQt5.QtCore import QUrl\n",
    "from PyQt5.QtWidgets import QApplication\n",
    "from PyQt5.QtWebEngineWidgets import QWebEngineView\n",
    "\n",
    "#To start the GUI app or window\n",
    "app = QApplication(sys.argv)\n",
    "\n",
    "#To make the app view web documents\n",
    "view = QWebEngineView()\n",
    "\n",
    "#Name the app\n",
    "app.setApplicationName(\"Ryans\")\n",
    "\n",
    "#Display web contents live\n",
    "view.load(QUrl(\"https://www.google.com\"))\n",
    "view.show()\n",
    "\n",
    "#Closes the App when you click X\n",
    "sys.exit(app.exec_())"
   ]
  },
  {
   "cell_type": "code",
   "execution_count": null,
   "metadata": {},
   "outputs": [],
   "source": []
  }
 ],
 "metadata": {
  "kernelspec": {
   "display_name": "Python 3",
   "language": "python",
   "name": "python3"
  },
  "language_info": {
   "codemirror_mode": {
    "name": "ipython",
    "version": 3
   },
   "file_extension": ".py",
   "mimetype": "text/x-python",
   "name": "python",
   "nbconvert_exporter": "python",
   "pygments_lexer": "ipython3",
   "version": "3.8.11"
  },
  "vscode": {
   "interpreter": {
    "hash": "c347c8f9a7ef94e4c9e03b4513be7835ed18f45b99a2a817fb579f408b867b16"
   }
  }
 },
 "nbformat": 4,
 "nbformat_minor": 2
}
