{
 "cells": [
  {
   "cell_type": "markdown",
   "id": "363d88fb",
   "metadata": {},
   "source": [
    "# Question: Create a platform that displays almost 5 already ongoing petitions and also allow a user to create a petition and votes should be counted and stored for each petition."
   ]
  },
  {
   "cell_type": "markdown",
   "id": "d0e2a7c1",
   "metadata": {},
   "source": [
    "# In this version, the petitions and votes are stored in an SQLite database, and the PetitionPlatform class uses SQL queries to interact with the database. The create_table method creates the petitions table in the database if it doesn't already exist. The create_petition method inserts a new petition into the table, and the list_petitions method retrieves all rows from the table and prints them out. The vote method updates the votes count of the petition by one."
   ]
  },
  {
   "cell_type": "code",
   "execution_count": 1,
   "id": "22b764eb",
   "metadata": {},
   "outputs": [
    {
     "name": "stdout",
     "output_type": "stream",
     "text": [
      "1. Save the Rainforests - 0 votes\n",
      "2. Ban Animal Testing - 0 votes\n",
      "3. Free Education for All - 0 votes\n",
      "4. Climate Change Action Now - 0 votes\n",
      "5. Healthcare for All - 0 votes\n",
      "Successfully voted for Climate Change Action Now\n",
      "1. Save the Rainforests - 0 votes\n",
      "2. Ban Animal Testing - 0 votes\n",
      "3. Free Education for All - 0 votes\n",
      "4. Climate Change Action Now - 1 votes\n",
      "5. Healthcare for All - 0 votes\n"
     ]
    }
   ],
   "source": [
    "class Petition:\n",
    "    def __init__(self, title, description):\n",
    "        self.title = title\n",
    "        self.description = description\n",
    "        self.votes = 0\n",
    "        \n",
    "    def vote(self):\n",
    "        self.votes += 1\n",
    "\n",
    "class PetitionPlatform:\n",
    "    def __init__(self):\n",
    "        self.petitions = []\n",
    "        \n",
    "    def create_petition(self, title, description):\n",
    "        petition = Petition(title, description)\n",
    "        self.petitions.append(petition)\n",
    "        \n",
    "    def list_petitions(self):\n",
    "        for i, petition in enumerate(self.petitions):\n",
    "            print(f'{i+1}. {petition.title} - {petition.votes} votes')\n",
    "            \n",
    "    def vote(self, petition_index):\n",
    "        try:\n",
    "            selected_petition = self.petitions[petition_index]\n",
    "            selected_petition.vote()\n",
    "            print(f'Successfully voted for {selected_petition.title}')\n",
    "        except IndexError:\n",
    "            print('Invalid petition index')\n",
    "\n",
    "petition_platform = PetitionPlatform()\n",
    "\n",
    "# create some petitions\n",
    "petition_platform.create_petition(\"Save the Rainforests\", \"The destruction of rainforests needs to stop\")\n",
    "petition_platform.create_petition(\"Ban Animal Testing\", \"Animal should not be used for testing products\")\n",
    "petition_platform.create_petition(\"Free Education for All\", \"Everyone has the right to education\")\n",
    "petition_platform.create_petition(\"Climate Change Action Now\", \"We need to take immediate action on climate change\")\n",
    "petition_platform.create_petition(\"Healthcare for All\", \"Access to healthcare is a basic human right\")\n",
    "\n",
    "# list petitions\n",
    "petition_platform.list_petitions()\n",
    "\n",
    "# vote for a petition\n",
    "petition_platform.vote(3)\n",
    "\n",
    "# list petitions to show updated vote count\n",
    "petition_platform.list_petitions()\n"
   ]
  },
  {
   "cell_type": "code",
   "execution_count": null,
   "id": "521c8ad9",
   "metadata": {},
   "outputs": [],
   "source": []
  },
  {
   "cell_type": "code",
   "execution_count": null,
   "id": "463543d4",
   "metadata": {
    "scrolled": true
   },
   "outputs": [],
   "source": []
  },
  {
   "cell_type": "code",
   "execution_count": null,
   "id": "c1a888f6",
   "metadata": {},
   "outputs": [],
   "source": []
  }
 ],
 "metadata": {
  "kernelspec": {
   "display_name": "Python 3",
   "language": "python",
   "name": "python3"
  },
  "language_info": {
   "codemirror_mode": {
    "name": "ipython",
    "version": 3
   },
   "file_extension": ".py",
   "mimetype": "text/x-python",
   "name": "python",
   "nbconvert_exporter": "python",
   "pygments_lexer": "ipython3",
   "version": "3.8.11"
  }
 },
 "nbformat": 4,
 "nbformat_minor": 5
}
