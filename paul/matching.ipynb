{
 "cells": [
  {
   "cell_type": "markdown",
   "id": "146ebf72",
   "metadata": {},
   "source": [
    "#### LOVE MATCHING APPLICATION\n"
   ]
  },
  {
   "cell_type": "markdown",
   "id": "649e2cc7",
   "metadata": {},
   "source": [
    "#### DETAILS\n",
    "#### Create an application thats ask a user some certian questions and separates male and female counterpartsnd any male user  that matches the details of a female user should match them"
   ]
  },
  {
   "cell_type": "code",
   "execution_count": 1,
   "id": "2eff10ba",
   "metadata": {},
   "outputs": [],
   "source": [
    "import sqlite3 as sql"
   ]
  },
  {
   "cell_type": "code",
   "execution_count": 2,
   "id": "fc00bef3",
   "metadata": {},
   "outputs": [
    {
     "data": {
      "text/plain": [
       "<sqlite3.Cursor at 0x1ca695506c0>"
      ]
     },
     "execution_count": 2,
     "metadata": {},
     "output_type": "execute_result"
    }
   ],
   "source": [
    "conn=sql.connect('pair.db')\n",
    "cursor=conn.cursor()\n",
    "cursor.execute(\"CREATE TABLE IF NOT EXISTS pair(id INTEGER PRIMARY KEY,name TEXT UNIQUE,gender CHAR(1),phone_number INTEGER, complextion TEXT, pets TEXT, games TEXT, entertainment TEXT, food TEXT, superhero TEXT,anime TEXT,complextion_preferance TEXT)\")"
   ]
  },
  {
   "cell_type": "code",
   "execution_count": null,
   "id": "8880f061",
   "metadata": {},
   "outputs": [],
   "source": []
  },
  {
   "cell_type": "code",
   "execution_count": 1,
   "id": "dd3967a4",
   "metadata": {},
   "outputs": [
    {
     "name": "stdout",
     "output_type": "stream",
     "text": [
      "what is your name? paul\n",
      "What is your gender(M/F)? M\n",
      "Do you prefer cats or dogs? cats\n",
      "Do you prefer indoor games or outdoor games? indoor\n",
      "Do you prefer movies or music: movies\n",
      "Do you prefer salty or sugary foods? salty\n",
      "Do you prefer Marvel or DC? Marvel\n",
      "what's your complextion?: dark\n",
      "what's your complextion preferance?: dark\n",
      "what,s your phone number?: 09061632063\n",
      "anime lover?: yes\n"
     ]
    },
    {
     "ename": "NameError",
     "evalue": "name 'cursor' is not defined",
     "output_type": "error",
     "traceback": [
      "\u001b[1;31m---------------------------------------------------------------------------\u001b[0m",
      "\u001b[1;31mNameError\u001b[0m                                 Traceback (most recent call last)",
      "\u001b[1;32m<ipython-input-1-98c490b0c028>\u001b[0m in \u001b[0;36m<module>\u001b[1;34m\u001b[0m\n\u001b[0;32m     10\u001b[0m \u001b[0mnumber\u001b[0m\u001b[1;33m=\u001b[0m\u001b[0minput\u001b[0m\u001b[1;33m(\u001b[0m\u001b[1;34m\"what,s your phone number?: \"\u001b[0m\u001b[1;33m)\u001b[0m\u001b[1;33m\u001b[0m\u001b[1;33m\u001b[0m\u001b[0m\n\u001b[0;32m     11\u001b[0m \u001b[0manime\u001b[0m\u001b[1;33m=\u001b[0m\u001b[0minput\u001b[0m\u001b[1;33m(\u001b[0m\u001b[1;34m\"anime lover?: \"\u001b[0m\u001b[1;33m)\u001b[0m\u001b[1;33m\u001b[0m\u001b[1;33m\u001b[0m\u001b[0m\n\u001b[1;32m---> 12\u001b[1;33m \u001b[0mcursor\u001b[0m\u001b[1;33m.\u001b[0m\u001b[0mexecute\u001b[0m\u001b[1;33m(\u001b[0m\u001b[1;34m\"INSERT OR IGNORE INTO pair(name,gender,phone_number,complextion,pets,games,entertainment,food,superhero,anime,complextion_preferance)VALUES (?,?,?,?,?,?,?,?,?,?,?)\"\u001b[0m\u001b[1;33m,\u001b[0m\u001b[1;33m(\u001b[0m\u001b[0mname\u001b[0m\u001b[1;33m,\u001b[0m\u001b[0mgender\u001b[0m\u001b[1;33m,\u001b[0m\u001b[0mnumber\u001b[0m\u001b[1;33m,\u001b[0m\u001b[0mcomp\u001b[0m\u001b[1;33m,\u001b[0m\u001b[0mpets\u001b[0m\u001b[1;33m,\u001b[0m\u001b[0mgames\u001b[0m\u001b[1;33m,\u001b[0m\u001b[0mentertainment\u001b[0m\u001b[1;33m,\u001b[0m\u001b[0mfood\u001b[0m\u001b[1;33m,\u001b[0m\u001b[0msuperhero\u001b[0m\u001b[1;33m,\u001b[0m\u001b[0manime\u001b[0m\u001b[1;33m,\u001b[0m\u001b[0mpref\u001b[0m\u001b[1;33m)\u001b[0m\u001b[1;33m)\u001b[0m\u001b[1;33m\u001b[0m\u001b[1;33m\u001b[0m\u001b[0m\n\u001b[0m\u001b[0;32m     13\u001b[0m \u001b[0mconn\u001b[0m\u001b[1;33m.\u001b[0m\u001b[0mcommit\u001b[0m\u001b[1;33m(\u001b[0m\u001b[1;33m)\u001b[0m\u001b[1;33m\u001b[0m\u001b[1;33m\u001b[0m\u001b[0m\n\u001b[0;32m     14\u001b[0m \u001b[1;32mif\u001b[0m \u001b[0mgender\u001b[0m \u001b[1;33m==\u001b[0m\u001b[1;34m'M'\u001b[0m \u001b[1;32mand\u001b[0m \u001b[0mpref\u001b[0m\u001b[1;33m==\u001b[0m\u001b[1;34m'fair'\u001b[0m\u001b[1;33m:\u001b[0m\u001b[1;33m\u001b[0m\u001b[1;33m\u001b[0m\u001b[0m\n",
      "\u001b[1;31mNameError\u001b[0m: name 'cursor' is not defined"
     ]
    }
   ],
   "source": [
    "name=input('what is your name? ')\n",
    "gender=input('What is your gender(M/F)? ')    \n",
    "pets=input('Do you prefer cats or dogs? ')\n",
    "games=input('Do you prefer indoor games or outdoor games? ')\n",
    "entertainment=input('Do you prefer movies or music: ')\n",
    "food=input('Do you prefer salty or sugary foods? ')\n",
    "superhero=input('Do you prefer Marvel or DC? ') \n",
    "comp=input(\"what's your complextion?: \")\n",
    "pref=input(\"what's your complextion preferance?: \")\n",
    "number=input(\"what,s your phone number?: \")\n",
    "anime=input(\"anime lover?: \")\n",
    "cursor.execute(\"INSERT OR IGNORE INTO pair(name,gender,phone_number,complextion,pets,games,entertainment,food,superhero,anime,complextion_preferance)VALUES (?,?,?,?,?,?,?,?,?,?,?)\",(name,gender,number,comp,pets,games,entertainment,food,superhero,anime,pref))\n",
    "conn.commit()\n",
    "if gender =='M' and pref=='fair':\n",
    "    opposite_gender='F'\n",
    "    camp='fair'\n",
    "elif gender=='M' and pref=='dark':\n",
    "    opposite_gender='F'\n",
    "    camp='dark'\n",
    "elif gender=='F' and pref=='fair':\n",
    "    opposite_gender='M'\n",
    "    camp='fair'\n",
    "else:\n",
    "    opposite_gender='M'\n",
    "    camp='dark'\n",
    "cursor.execute(\"SELECT name,phone_number FROM pair WHERE gender=? AND complextion=? AND pets=? AND games=? AND entertainment=? AND food=? AND superhero=? AND anime=? AND complextion_preferance=?\",(opposite_gender,camp,pets,games,entertainment,food,superhero,anime,comp))\n",
    "matching_users=cursor.fetchall()\n",
    "if matching_users:\n",
    "    print('Your choices match with: ')\n",
    "    print(\"\")\n",
    "    for user in matching_users:\n",
    "        print(user[0])\n",
    "        print(user[1])\n",
    "        print(\"\")\n",
    "else:\n",
    "    print('No matches found.')\n",
    "conn.close"
   ]
  },
  {
   "cell_type": "code",
   "execution_count": null,
   "id": "538fd4dc",
   "metadata": {},
   "outputs": [],
   "source": [
    "\n",
    "cursor.execute(\"select name from pair\")\n",
    "cursor.fetchall()"
   ]
  },
  {
   "cell_type": "code",
   "execution_count": null,
   "id": "8f641ea8",
   "metadata": {},
   "outputs": [],
   "source": [
    "name=input('please enter your name: ')\n",
    "query=f\"SELECT * FROM pair WHERE name='{name}'\"\n",
    "cursor.execute(query)\n",
    "pack=cursor.fetchall()\n",
    "if pack:\n",
    "    d,name,gender,number,comp,pets,games,entertainment,food,superhero,anime,pref= pack[0]\n",
    "    if gender =='M' and pref=='fair':\n",
    "        opposite_gender='F'\n",
    "        camp='fair'\n",
    "    elif gender=='M' and pref=='dark':\n",
    "        opposite_gender='F'\n",
    "        camp='dark'\n",
    "    elif gender=='F' and pref=='fair':\n",
    "        opposite_gender='M'\n",
    "        camp='fair'\n",
    "    else:\n",
    "        opposite_gender='M'\n",
    "        camp='dark'\n",
    "    cursor.execute(\"SELECT name,phone_number FROM pair WHERE gender=? AND complextion=? AND pets=? AND games=? AND entertainment=? AND food=? AND superhero=? AND anime=? AND complextion_preferance=?\",(opposite_gender,camp,pets,games,entertainment,food,superhero,anime,comp))\n",
    "    matching_users=cursor.fetchall()\n",
    "    if matching_users:\n",
    "        print('Your choices match with: ')\n",
    "        print(\"\")\n",
    "        for user in matching_users:\n",
    "            print(user[0])\n",
    "            print(user[1])\n",
    "            print(\"\")\n",
    "    else:\n",
    "        print('No matches found.')\n",
    "else:\n",
    "    print('record not in database')\n",
    "conn.close"
   ]
  },
  {
   "cell_type": "code",
   "execution_count": null,
   "id": "be85a271",
   "metadata": {},
   "outputs": [],
   "source": [
    "cursor.execute(\"UPDATE pair SET phone_number=09155831364 WHERE name='goldie'\")"
   ]
  },
  {
   "cell_type": "code",
   "execution_count": null,
   "id": "63f9b2e0",
   "metadata": {},
   "outputs": [],
   "source": [
    "()"
   ]
  },
  {
   "cell_type": "code",
   "execution_count": null,
   "id": "1b64ce38",
   "metadata": {},
   "outputs": [],
   "source": [
    "name='goldie'\n",
    "query=f\"SELECT * FROM pair WHERE name='{name}'\"\n",
    "cursor.execute(query)\n",
    "cursor.fetchall()"
   ]
  }
 ],
 "metadata": {
  "kernelspec": {
   "display_name": "Python 3",
   "language": "python",
   "name": "python3"
  },
  "language_info": {
   "codemirror_mode": {
    "name": "ipython",
    "version": 3
   },
   "file_extension": ".py",
   "mimetype": "text/x-python",
   "name": "python",
   "nbconvert_exporter": "python",
   "pygments_lexer": "ipython3",
   "version": "3.8.11"
  }
 },
 "nbformat": 4,
 "nbformat_minor": 5
}
